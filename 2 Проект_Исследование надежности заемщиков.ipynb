{
 "cells": [
  {
   "cell_type": "markdown",
   "id": "70870938",
   "metadata": {
    "deletable": false,
    "editable": false,
    "id": "c81daeeb"
   },
   "source": [
    "# Исследование надежности заемщиков\n"
   ]
  },
  {
   "cell_type": "markdown",
   "id": "9fc03c79",
   "metadata": {
    "deletable": false,
    "editable": false,
    "id": "827c20bf"
   },
   "source": [
    "Во второй части проекта вы выполните шаги 3 и 4. Их вручную проверит ревьюер.\n",
    "Чтобы вам не пришлось писать код заново для шагов 1 и 2, мы добавили авторские решения в ячейки с кодом. \n",
    "\n"
   ]
  },
  {
   "cell_type": "markdown",
   "id": "244a3e6d",
   "metadata": {
    "deletable": false,
    "editable": false,
    "id": "744d7639"
   },
   "source": [
    "## Откройте таблицу и изучите общую информацию о данных"
   ]
  },
  {
   "cell_type": "markdown",
   "id": "d5f41c0a",
   "metadata": {
    "deletable": false,
    "editable": false,
    "id": "e7a14c31"
   },
   "source": [
    "**Задание 1. Импортируйте библиотеку pandas. Считайте данные из csv-файла в датафрейм и сохраните в переменную `data`. Путь к файлу:**\n",
    "\n",
    "`/datasets/data.csv`"
   ]
  },
  {
   "cell_type": "code",
   "execution_count": 1,
   "id": "32520563",
   "metadata": {
    "deletable": false,
    "id": "7bcf75c9"
   },
   "outputs": [],
   "source": [
    "import pandas as pd\n",
    "\n",
    "try:\n",
    "    data = pd.read_csv('/datasets/data.csv')\n",
    "except:\n",
    "    data = pd.read_csv('https://code.s3.yandex.net/datasets/data.csv')"
   ]
  },
  {
   "cell_type": "markdown",
   "id": "bf459961",
   "metadata": {
    "deletable": false,
    "editable": false,
    "id": "b8038fe3"
   },
   "source": [
    "**Задание 2. Выведите первые 20 строчек датафрейма `data` на экран.**"
   ]
  },
  {
   "cell_type": "code",
   "execution_count": 2,
   "id": "cbed2794",
   "metadata": {
    "deletable": false,
    "id": "2a7cab99",
    "outputId": "1a8f3ef2-d323-4ec2-ddf7-89670b5944c4"
   },
   "outputs": [
    {
     "data": {
      "text/html": [
       "<div>\n",
       "<style scoped>\n",
       "    .dataframe tbody tr th:only-of-type {\n",
       "        vertical-align: middle;\n",
       "    }\n",
       "\n",
       "    .dataframe tbody tr th {\n",
       "        vertical-align: top;\n",
       "    }\n",
       "\n",
       "    .dataframe thead th {\n",
       "        text-align: right;\n",
       "    }\n",
       "</style>\n",
       "<table border=\"1\" class=\"dataframe\">\n",
       "  <thead>\n",
       "    <tr style=\"text-align: right;\">\n",
       "      <th></th>\n",
       "      <th>children</th>\n",
       "      <th>days_employed</th>\n",
       "      <th>dob_years</th>\n",
       "      <th>education</th>\n",
       "      <th>education_id</th>\n",
       "      <th>family_status</th>\n",
       "      <th>family_status_id</th>\n",
       "      <th>gender</th>\n",
       "      <th>income_type</th>\n",
       "      <th>debt</th>\n",
       "      <th>total_income</th>\n",
       "      <th>purpose</th>\n",
       "    </tr>\n",
       "  </thead>\n",
       "  <tbody>\n",
       "    <tr>\n",
       "      <th>0</th>\n",
       "      <td>1</td>\n",
       "      <td>-8437.673028</td>\n",
       "      <td>42</td>\n",
       "      <td>высшее</td>\n",
       "      <td>0</td>\n",
       "      <td>женат / замужем</td>\n",
       "      <td>0</td>\n",
       "      <td>F</td>\n",
       "      <td>сотрудник</td>\n",
       "      <td>0</td>\n",
       "      <td>253875.639453</td>\n",
       "      <td>покупка жилья</td>\n",
       "    </tr>\n",
       "    <tr>\n",
       "      <th>1</th>\n",
       "      <td>1</td>\n",
       "      <td>-4024.803754</td>\n",
       "      <td>36</td>\n",
       "      <td>среднее</td>\n",
       "      <td>1</td>\n",
       "      <td>женат / замужем</td>\n",
       "      <td>0</td>\n",
       "      <td>F</td>\n",
       "      <td>сотрудник</td>\n",
       "      <td>0</td>\n",
       "      <td>112080.014102</td>\n",
       "      <td>приобретение автомобиля</td>\n",
       "    </tr>\n",
       "    <tr>\n",
       "      <th>2</th>\n",
       "      <td>0</td>\n",
       "      <td>-5623.422610</td>\n",
       "      <td>33</td>\n",
       "      <td>Среднее</td>\n",
       "      <td>1</td>\n",
       "      <td>женат / замужем</td>\n",
       "      <td>0</td>\n",
       "      <td>M</td>\n",
       "      <td>сотрудник</td>\n",
       "      <td>0</td>\n",
       "      <td>145885.952297</td>\n",
       "      <td>покупка жилья</td>\n",
       "    </tr>\n",
       "    <tr>\n",
       "      <th>3</th>\n",
       "      <td>3</td>\n",
       "      <td>-4124.747207</td>\n",
       "      <td>32</td>\n",
       "      <td>среднее</td>\n",
       "      <td>1</td>\n",
       "      <td>женат / замужем</td>\n",
       "      <td>0</td>\n",
       "      <td>M</td>\n",
       "      <td>сотрудник</td>\n",
       "      <td>0</td>\n",
       "      <td>267628.550329</td>\n",
       "      <td>дополнительное образование</td>\n",
       "    </tr>\n",
       "    <tr>\n",
       "      <th>4</th>\n",
       "      <td>0</td>\n",
       "      <td>340266.072047</td>\n",
       "      <td>53</td>\n",
       "      <td>среднее</td>\n",
       "      <td>1</td>\n",
       "      <td>гражданский брак</td>\n",
       "      <td>1</td>\n",
       "      <td>F</td>\n",
       "      <td>пенсионер</td>\n",
       "      <td>0</td>\n",
       "      <td>158616.077870</td>\n",
       "      <td>сыграть свадьбу</td>\n",
       "    </tr>\n",
       "    <tr>\n",
       "      <th>5</th>\n",
       "      <td>0</td>\n",
       "      <td>-926.185831</td>\n",
       "      <td>27</td>\n",
       "      <td>высшее</td>\n",
       "      <td>0</td>\n",
       "      <td>гражданский брак</td>\n",
       "      <td>1</td>\n",
       "      <td>M</td>\n",
       "      <td>компаньон</td>\n",
       "      <td>0</td>\n",
       "      <td>255763.565419</td>\n",
       "      <td>покупка жилья</td>\n",
       "    </tr>\n",
       "    <tr>\n",
       "      <th>6</th>\n",
       "      <td>0</td>\n",
       "      <td>-2879.202052</td>\n",
       "      <td>43</td>\n",
       "      <td>высшее</td>\n",
       "      <td>0</td>\n",
       "      <td>женат / замужем</td>\n",
       "      <td>0</td>\n",
       "      <td>F</td>\n",
       "      <td>компаньон</td>\n",
       "      <td>0</td>\n",
       "      <td>240525.971920</td>\n",
       "      <td>операции с жильем</td>\n",
       "    </tr>\n",
       "    <tr>\n",
       "      <th>7</th>\n",
       "      <td>0</td>\n",
       "      <td>-152.779569</td>\n",
       "      <td>50</td>\n",
       "      <td>СРЕДНЕЕ</td>\n",
       "      <td>1</td>\n",
       "      <td>женат / замужем</td>\n",
       "      <td>0</td>\n",
       "      <td>M</td>\n",
       "      <td>сотрудник</td>\n",
       "      <td>0</td>\n",
       "      <td>135823.934197</td>\n",
       "      <td>образование</td>\n",
       "    </tr>\n",
       "    <tr>\n",
       "      <th>8</th>\n",
       "      <td>2</td>\n",
       "      <td>-6929.865299</td>\n",
       "      <td>35</td>\n",
       "      <td>ВЫСШЕЕ</td>\n",
       "      <td>0</td>\n",
       "      <td>гражданский брак</td>\n",
       "      <td>1</td>\n",
       "      <td>F</td>\n",
       "      <td>сотрудник</td>\n",
       "      <td>0</td>\n",
       "      <td>95856.832424</td>\n",
       "      <td>на проведение свадьбы</td>\n",
       "    </tr>\n",
       "    <tr>\n",
       "      <th>9</th>\n",
       "      <td>0</td>\n",
       "      <td>-2188.756445</td>\n",
       "      <td>41</td>\n",
       "      <td>среднее</td>\n",
       "      <td>1</td>\n",
       "      <td>женат / замужем</td>\n",
       "      <td>0</td>\n",
       "      <td>M</td>\n",
       "      <td>сотрудник</td>\n",
       "      <td>0</td>\n",
       "      <td>144425.938277</td>\n",
       "      <td>покупка жилья для семьи</td>\n",
       "    </tr>\n",
       "    <tr>\n",
       "      <th>10</th>\n",
       "      <td>2</td>\n",
       "      <td>-4171.483647</td>\n",
       "      <td>36</td>\n",
       "      <td>высшее</td>\n",
       "      <td>0</td>\n",
       "      <td>женат / замужем</td>\n",
       "      <td>0</td>\n",
       "      <td>M</td>\n",
       "      <td>компаньон</td>\n",
       "      <td>0</td>\n",
       "      <td>113943.491460</td>\n",
       "      <td>покупка недвижимости</td>\n",
       "    </tr>\n",
       "    <tr>\n",
       "      <th>11</th>\n",
       "      <td>0</td>\n",
       "      <td>-792.701887</td>\n",
       "      <td>40</td>\n",
       "      <td>среднее</td>\n",
       "      <td>1</td>\n",
       "      <td>женат / замужем</td>\n",
       "      <td>0</td>\n",
       "      <td>F</td>\n",
       "      <td>сотрудник</td>\n",
       "      <td>0</td>\n",
       "      <td>77069.234271</td>\n",
       "      <td>покупка коммерческой недвижимости</td>\n",
       "    </tr>\n",
       "    <tr>\n",
       "      <th>12</th>\n",
       "      <td>0</td>\n",
       "      <td>NaN</td>\n",
       "      <td>65</td>\n",
       "      <td>среднее</td>\n",
       "      <td>1</td>\n",
       "      <td>гражданский брак</td>\n",
       "      <td>1</td>\n",
       "      <td>M</td>\n",
       "      <td>пенсионер</td>\n",
       "      <td>0</td>\n",
       "      <td>NaN</td>\n",
       "      <td>сыграть свадьбу</td>\n",
       "    </tr>\n",
       "    <tr>\n",
       "      <th>13</th>\n",
       "      <td>0</td>\n",
       "      <td>-1846.641941</td>\n",
       "      <td>54</td>\n",
       "      <td>неоконченное высшее</td>\n",
       "      <td>2</td>\n",
       "      <td>женат / замужем</td>\n",
       "      <td>0</td>\n",
       "      <td>F</td>\n",
       "      <td>сотрудник</td>\n",
       "      <td>0</td>\n",
       "      <td>130458.228857</td>\n",
       "      <td>приобретение автомобиля</td>\n",
       "    </tr>\n",
       "    <tr>\n",
       "      <th>14</th>\n",
       "      <td>0</td>\n",
       "      <td>-1844.956182</td>\n",
       "      <td>56</td>\n",
       "      <td>высшее</td>\n",
       "      <td>0</td>\n",
       "      <td>гражданский брак</td>\n",
       "      <td>1</td>\n",
       "      <td>F</td>\n",
       "      <td>компаньон</td>\n",
       "      <td>1</td>\n",
       "      <td>165127.911772</td>\n",
       "      <td>покупка жилой недвижимости</td>\n",
       "    </tr>\n",
       "    <tr>\n",
       "      <th>15</th>\n",
       "      <td>1</td>\n",
       "      <td>-972.364419</td>\n",
       "      <td>26</td>\n",
       "      <td>среднее</td>\n",
       "      <td>1</td>\n",
       "      <td>женат / замужем</td>\n",
       "      <td>0</td>\n",
       "      <td>F</td>\n",
       "      <td>сотрудник</td>\n",
       "      <td>0</td>\n",
       "      <td>116820.904450</td>\n",
       "      <td>строительство собственной недвижимости</td>\n",
       "    </tr>\n",
       "    <tr>\n",
       "      <th>16</th>\n",
       "      <td>0</td>\n",
       "      <td>-1719.934226</td>\n",
       "      <td>35</td>\n",
       "      <td>среднее</td>\n",
       "      <td>1</td>\n",
       "      <td>женат / замужем</td>\n",
       "      <td>0</td>\n",
       "      <td>F</td>\n",
       "      <td>сотрудник</td>\n",
       "      <td>0</td>\n",
       "      <td>289202.704229</td>\n",
       "      <td>недвижимость</td>\n",
       "    </tr>\n",
       "    <tr>\n",
       "      <th>17</th>\n",
       "      <td>0</td>\n",
       "      <td>-2369.999720</td>\n",
       "      <td>33</td>\n",
       "      <td>высшее</td>\n",
       "      <td>0</td>\n",
       "      <td>гражданский брак</td>\n",
       "      <td>1</td>\n",
       "      <td>M</td>\n",
       "      <td>сотрудник</td>\n",
       "      <td>0</td>\n",
       "      <td>90410.586745</td>\n",
       "      <td>строительство недвижимости</td>\n",
       "    </tr>\n",
       "    <tr>\n",
       "      <th>18</th>\n",
       "      <td>0</td>\n",
       "      <td>400281.136913</td>\n",
       "      <td>53</td>\n",
       "      <td>среднее</td>\n",
       "      <td>1</td>\n",
       "      <td>вдовец / вдова</td>\n",
       "      <td>2</td>\n",
       "      <td>F</td>\n",
       "      <td>пенсионер</td>\n",
       "      <td>0</td>\n",
       "      <td>56823.777243</td>\n",
       "      <td>на покупку подержанного автомобиля</td>\n",
       "    </tr>\n",
       "    <tr>\n",
       "      <th>19</th>\n",
       "      <td>0</td>\n",
       "      <td>-10038.818549</td>\n",
       "      <td>48</td>\n",
       "      <td>СРЕДНЕЕ</td>\n",
       "      <td>1</td>\n",
       "      <td>в разводе</td>\n",
       "      <td>3</td>\n",
       "      <td>F</td>\n",
       "      <td>сотрудник</td>\n",
       "      <td>0</td>\n",
       "      <td>242831.107982</td>\n",
       "      <td>на покупку своего автомобиля</td>\n",
       "    </tr>\n",
       "  </tbody>\n",
       "</table>\n",
       "</div>"
      ],
      "text/plain": [
       "    children  days_employed  dob_years            education  education_id  \\\n",
       "0          1   -8437.673028         42               высшее             0   \n",
       "1          1   -4024.803754         36              среднее             1   \n",
       "2          0   -5623.422610         33              Среднее             1   \n",
       "3          3   -4124.747207         32              среднее             1   \n",
       "4          0  340266.072047         53              среднее             1   \n",
       "5          0    -926.185831         27               высшее             0   \n",
       "6          0   -2879.202052         43               высшее             0   \n",
       "7          0    -152.779569         50              СРЕДНЕЕ             1   \n",
       "8          2   -6929.865299         35               ВЫСШЕЕ             0   \n",
       "9          0   -2188.756445         41              среднее             1   \n",
       "10         2   -4171.483647         36               высшее             0   \n",
       "11         0    -792.701887         40              среднее             1   \n",
       "12         0            NaN         65              среднее             1   \n",
       "13         0   -1846.641941         54  неоконченное высшее             2   \n",
       "14         0   -1844.956182         56               высшее             0   \n",
       "15         1    -972.364419         26              среднее             1   \n",
       "16         0   -1719.934226         35              среднее             1   \n",
       "17         0   -2369.999720         33               высшее             0   \n",
       "18         0  400281.136913         53              среднее             1   \n",
       "19         0  -10038.818549         48              СРЕДНЕЕ             1   \n",
       "\n",
       "       family_status  family_status_id gender income_type  debt  \\\n",
       "0    женат / замужем                 0      F   сотрудник     0   \n",
       "1    женат / замужем                 0      F   сотрудник     0   \n",
       "2    женат / замужем                 0      M   сотрудник     0   \n",
       "3    женат / замужем                 0      M   сотрудник     0   \n",
       "4   гражданский брак                 1      F   пенсионер     0   \n",
       "5   гражданский брак                 1      M   компаньон     0   \n",
       "6    женат / замужем                 0      F   компаньон     0   \n",
       "7    женат / замужем                 0      M   сотрудник     0   \n",
       "8   гражданский брак                 1      F   сотрудник     0   \n",
       "9    женат / замужем                 0      M   сотрудник     0   \n",
       "10   женат / замужем                 0      M   компаньон     0   \n",
       "11   женат / замужем                 0      F   сотрудник     0   \n",
       "12  гражданский брак                 1      M   пенсионер     0   \n",
       "13   женат / замужем                 0      F   сотрудник     0   \n",
       "14  гражданский брак                 1      F   компаньон     1   \n",
       "15   женат / замужем                 0      F   сотрудник     0   \n",
       "16   женат / замужем                 0      F   сотрудник     0   \n",
       "17  гражданский брак                 1      M   сотрудник     0   \n",
       "18    вдовец / вдова                 2      F   пенсионер     0   \n",
       "19         в разводе                 3      F   сотрудник     0   \n",
       "\n",
       "     total_income                                 purpose  \n",
       "0   253875.639453                           покупка жилья  \n",
       "1   112080.014102                 приобретение автомобиля  \n",
       "2   145885.952297                           покупка жилья  \n",
       "3   267628.550329              дополнительное образование  \n",
       "4   158616.077870                         сыграть свадьбу  \n",
       "5   255763.565419                           покупка жилья  \n",
       "6   240525.971920                       операции с жильем  \n",
       "7   135823.934197                             образование  \n",
       "8    95856.832424                   на проведение свадьбы  \n",
       "9   144425.938277                 покупка жилья для семьи  \n",
       "10  113943.491460                    покупка недвижимости  \n",
       "11   77069.234271       покупка коммерческой недвижимости  \n",
       "12            NaN                         сыграть свадьбу  \n",
       "13  130458.228857                 приобретение автомобиля  \n",
       "14  165127.911772              покупка жилой недвижимости  \n",
       "15  116820.904450  строительство собственной недвижимости  \n",
       "16  289202.704229                            недвижимость  \n",
       "17   90410.586745              строительство недвижимости  \n",
       "18   56823.777243      на покупку подержанного автомобиля  \n",
       "19  242831.107982            на покупку своего автомобиля  "
      ]
     },
     "execution_count": 2,
     "metadata": {},
     "output_type": "execute_result"
    }
   ],
   "source": [
    "data.head(20)"
   ]
  },
  {
   "cell_type": "markdown",
   "id": "a4934cc8",
   "metadata": {
    "deletable": false,
    "editable": false,
    "id": "1c12e233"
   },
   "source": [
    "**Задание 3. Выведите основную информацию о датафрейме с помощью метода `info()`.**"
   ]
  },
  {
   "cell_type": "code",
   "execution_count": 3,
   "id": "ac372583",
   "metadata": {
    "deletable": false,
    "id": "2b757bca",
    "outputId": "15376089-8dad-46c9-b520-c05248d43158"
   },
   "outputs": [
    {
     "name": "stdout",
     "output_type": "stream",
     "text": [
      "<class 'pandas.core.frame.DataFrame'>\n",
      "RangeIndex: 21525 entries, 0 to 21524\n",
      "Data columns (total 12 columns):\n",
      " #   Column            Non-Null Count  Dtype  \n",
      "---  ------            --------------  -----  \n",
      " 0   children          21525 non-null  int64  \n",
      " 1   days_employed     19351 non-null  float64\n",
      " 2   dob_years         21525 non-null  int64  \n",
      " 3   education         21525 non-null  object \n",
      " 4   education_id      21525 non-null  int64  \n",
      " 5   family_status     21525 non-null  object \n",
      " 6   family_status_id  21525 non-null  int64  \n",
      " 7   gender            21525 non-null  object \n",
      " 8   income_type       21525 non-null  object \n",
      " 9   debt              21525 non-null  int64  \n",
      " 10  total_income      19351 non-null  float64\n",
      " 11  purpose           21525 non-null  object \n",
      "dtypes: float64(2), int64(5), object(5)\n",
      "memory usage: 2.0+ MB\n"
     ]
    }
   ],
   "source": [
    "data.info()"
   ]
  },
  {
   "cell_type": "markdown",
   "id": "5a0fba00",
   "metadata": {
    "deletable": false,
    "editable": false,
    "id": "333ec665"
   },
   "source": [
    "## Предобработка данных"
   ]
  },
  {
   "cell_type": "markdown",
   "id": "8d9069cd",
   "metadata": {
    "deletable": false,
    "editable": false,
    "id": "02d92d53"
   },
   "source": [
    "### Удаление пропусков"
   ]
  },
  {
   "cell_type": "markdown",
   "id": "bfb686ab",
   "metadata": {
    "deletable": false,
    "editable": false,
    "id": "cd84967c"
   },
   "source": [
    "**Задание 4. Выведите количество пропущенных значений для каждого столбца. Используйте комбинацию двух методов.**"
   ]
  },
  {
   "cell_type": "code",
   "execution_count": 4,
   "id": "2cf383a1",
   "metadata": {
    "deletable": false,
    "id": "7f9b2309",
    "outputId": "81f4d817-781c-465c-ed15-91ce4446810d"
   },
   "outputs": [
    {
     "data": {
      "text/plain": [
       "children               0\n",
       "days_employed       2174\n",
       "dob_years              0\n",
       "education              0\n",
       "education_id           0\n",
       "family_status          0\n",
       "family_status_id       0\n",
       "gender                 0\n",
       "income_type            0\n",
       "debt                   0\n",
       "total_income        2174\n",
       "purpose                0\n",
       "dtype: int64"
      ]
     },
     "execution_count": 4,
     "metadata": {},
     "output_type": "execute_result"
    }
   ],
   "source": [
    "data.isna().sum()"
   ]
  },
  {
   "cell_type": "markdown",
   "id": "0f020b22",
   "metadata": {
    "deletable": false,
    "editable": false,
    "id": "db86e27b"
   },
   "source": [
    "**Задание 5. В двух столбцах есть пропущенные значения. Один из них — `days_employed`. Пропуски в этом столбце вы обработаете на следующем этапе. Другой столбец с пропущенными значениями — `total_income` — хранит данные о доходах. На сумму дохода сильнее всего влияет тип занятости, поэтому заполнить пропуски в этом столбце нужно медианным значением по каждому типу из столбца `income_type`. Например, у человека с типом занятости `сотрудник` пропуск в столбце `total_income` должен быть заполнен медианным доходом среди всех записей с тем же типом.**"
   ]
  },
  {
   "cell_type": "code",
   "execution_count": 5,
   "id": "a2a4e020",
   "metadata": {
    "deletable": false,
    "id": "42006a93"
   },
   "outputs": [],
   "source": [
    "for t in data['income_type'].unique():\n",
    "    data.loc[(data['income_type'] == t) & (data['total_income'].isna()), 'total_income'] = \\\n",
    "    data.loc[(data['income_type'] == t), 'total_income'].median()"
   ]
  },
  {
   "cell_type": "markdown",
   "id": "6e210d1c",
   "metadata": {
    "deletable": false,
    "editable": false,
    "id": "89da5ece"
   },
   "source": [
    "### Обработка аномальных значений"
   ]
  },
  {
   "cell_type": "markdown",
   "id": "0651f13a",
   "metadata": {
    "deletable": false,
    "editable": false,
    "id": "57964554"
   },
   "source": [
    "**Задание 6. В данных могут встречаться артефакты (аномалии) — значения, которые не отражают действительность и появились по какой-то ошибке. таким артефактом будет отрицательное количество дней трудового стажа в столбце `days_employed`. Для реальных данных это нормально. Обработайте значения в этом столбце: замените все отрицательные значения положительными с помощью метода `abs()`.**"
   ]
  },
  {
   "cell_type": "code",
   "execution_count": 6,
   "id": "71b30bce",
   "metadata": {
    "deletable": false,
    "id": "f6f055bf"
   },
   "outputs": [],
   "source": [
    "data['days_employed'] = data['days_employed'].abs()"
   ]
  },
  {
   "cell_type": "markdown",
   "id": "ecaecaba",
   "metadata": {
    "deletable": false,
    "editable": false,
    "id": "6107dd2f"
   },
   "source": [
    "**Задание 7. Для каждого типа занятости выведите медианное значение трудового стажа `days_employed` в днях.**"
   ]
  },
  {
   "cell_type": "code",
   "execution_count": 7,
   "id": "4a17ae2d",
   "metadata": {
    "deletable": false,
    "id": "85a5faf6",
    "outputId": "801ef80e-522b-4668-f34e-565af7432bcf"
   },
   "outputs": [
    {
     "data": {
      "text/plain": [
       "income_type\n",
       "безработный        366413.652744\n",
       "в декрете            3296.759962\n",
       "госслужащий          2689.368353\n",
       "компаньон            1547.382223\n",
       "пенсионер          365213.306266\n",
       "предприниматель       520.848083\n",
       "сотрудник            1574.202821\n",
       "студент               578.751554\n",
       "Name: days_employed, dtype: float64"
      ]
     },
     "execution_count": 7,
     "metadata": {},
     "output_type": "execute_result"
    }
   ],
   "source": [
    "data.groupby('income_type')['days_employed'].agg('median')"
   ]
  },
  {
   "cell_type": "markdown",
   "id": "ca4b414a",
   "metadata": {
    "deletable": false,
    "editable": false,
    "id": "38d1a030"
   },
   "source": [
    "У двух типов (безработные и пенсионеры) получатся аномально большие значения. Исправить такие значения сложно, поэтому оставьте их как есть. Тем более этот столбец не понадобится вам для исследования."
   ]
  },
  {
   "cell_type": "markdown",
   "id": "23748f0c",
   "metadata": {
    "deletable": false,
    "editable": false,
    "id": "d8a9f147"
   },
   "source": [
    "**Задание 8. Выведите перечень уникальных значений столбца `children`.**"
   ]
  },
  {
   "cell_type": "code",
   "execution_count": 8,
   "id": "63ac4fb5",
   "metadata": {
    "deletable": false,
    "id": "ef5056eb",
    "outputId": "6975b15c-7f95-4697-d16d-a0c79b657b03"
   },
   "outputs": [
    {
     "data": {
      "text/plain": [
       "array([ 1,  0,  3,  2, -1,  4, 20,  5])"
      ]
     },
     "execution_count": 8,
     "metadata": {},
     "output_type": "execute_result"
    }
   ],
   "source": [
    "data['children'].unique()"
   ]
  },
  {
   "cell_type": "markdown",
   "id": "2dd642f1",
   "metadata": {
    "deletable": false,
    "editable": false,
    "id": "40b9ebf2"
   },
   "source": [
    "**Задание 9. В столбце `children` есть два аномальных значения. Удалите строки, в которых встречаются такие аномальные значения из датафрейма `data`.**"
   ]
  },
  {
   "cell_type": "code",
   "execution_count": 9,
   "id": "9065a9e0",
   "metadata": {
    "deletable": false,
    "id": "3ff9801d"
   },
   "outputs": [],
   "source": [
    "data = data[(data['children'] != -1) & (data['children'] != 20)]"
   ]
  },
  {
   "cell_type": "markdown",
   "id": "53e1550f",
   "metadata": {
    "deletable": false,
    "editable": false,
    "id": "bbc4d0ce"
   },
   "source": [
    "**Задание 10. Ещё раз выведите перечень уникальных значений столбца `children`, чтобы убедиться, что артефакты удалены.**"
   ]
  },
  {
   "cell_type": "code",
   "execution_count": 10,
   "id": "4cc4341a",
   "metadata": {
    "deletable": false,
    "id": "ad4fa8b7",
    "outputId": "b2097101-d49d-44d9-901b-32a65c9463d1"
   },
   "outputs": [
    {
     "data": {
      "text/plain": [
       "array([1, 0, 3, 2, 4, 5])"
      ]
     },
     "execution_count": 10,
     "metadata": {},
     "output_type": "execute_result"
    }
   ],
   "source": [
    "data['children'].unique()"
   ]
  },
  {
   "cell_type": "markdown",
   "id": "1fa76257",
   "metadata": {
    "deletable": false,
    "editable": false,
    "id": "75440b63"
   },
   "source": [
    "### Удаление пропусков (продолжение)"
   ]
  },
  {
   "cell_type": "markdown",
   "id": "3bca4537",
   "metadata": {
    "deletable": false,
    "editable": false,
    "id": "f4ea573f"
   },
   "source": [
    "**Задание 11. Заполните пропуски в столбце `days_employed` медианными значениями по каждого типа занятости `income_type`.**"
   ]
  },
  {
   "cell_type": "code",
   "execution_count": 11,
   "id": "f5562317",
   "metadata": {
    "deletable": false,
    "id": "af6b1a7e"
   },
   "outputs": [],
   "source": [
    "for t in data['income_type'].unique():\n",
    "    data.loc[(data['income_type'] == t) & (data['days_employed'].isna()), 'days_employed'] = \\\n",
    "    data.loc[(data['income_type'] == t), 'days_employed'].median()"
   ]
  },
  {
   "cell_type": "markdown",
   "id": "98b6ddb4",
   "metadata": {
    "deletable": false,
    "editable": false,
    "id": "2753f40d"
   },
   "source": [
    "**Задание 12. Убедитесь, что все пропуски заполнены. Проверьте себя и ещё раз выведите количество пропущенных значений для каждого столбца с помощью двух методов.**"
   ]
  },
  {
   "cell_type": "code",
   "execution_count": 12,
   "id": "16ff49b7",
   "metadata": {
    "deletable": false,
    "id": "55f78bc2",
    "outputId": "8da1e4e1-358e-4e87-98c9-f261bce0a7b2"
   },
   "outputs": [
    {
     "data": {
      "text/plain": [
       "children            0\n",
       "days_employed       0\n",
       "dob_years           0\n",
       "education           0\n",
       "education_id        0\n",
       "family_status       0\n",
       "family_status_id    0\n",
       "gender              0\n",
       "income_type         0\n",
       "debt                0\n",
       "total_income        0\n",
       "purpose             0\n",
       "dtype: int64"
      ]
     },
     "execution_count": 12,
     "metadata": {},
     "output_type": "execute_result"
    }
   ],
   "source": [
    "data.isna().sum()"
   ]
  },
  {
   "cell_type": "markdown",
   "id": "25edafb9",
   "metadata": {
    "deletable": false,
    "editable": false,
    "id": "ddc81e43"
   },
   "source": [
    "### Изменение типов данных"
   ]
  },
  {
   "cell_type": "markdown",
   "id": "c81fee80",
   "metadata": {
    "deletable": false,
    "editable": false,
    "id": "42d19d24"
   },
   "source": [
    "**Задание 13. Замените вещественный тип данных в столбце `total_income` на целочисленный с помощью метода `astype()`.**"
   ]
  },
  {
   "cell_type": "code",
   "execution_count": 13,
   "id": "c1cdda47",
   "metadata": {
    "deletable": false,
    "id": "920b65ad"
   },
   "outputs": [],
   "source": [
    "data['total_income'] = data['total_income'].astype(int)"
   ]
  },
  {
   "cell_type": "markdown",
   "id": "060104f3",
   "metadata": {
    "deletable": false,
    "editable": false,
    "id": "80c420ba"
   },
   "source": [
    "### Обработка дубликатов"
   ]
  },
  {
   "cell_type": "markdown",
   "id": "68717af0",
   "metadata": {
    "deletable": false,
    "editable": false
   },
   "source": [
    "**Задание 14. Обработайте неявные дубликаты в столбце `education`. В этом столбце есть одни и те же значения, но записанные по-разному: с использованием заглавных и строчных букв. Приведите их к нижнему регистру. Проверьте остальные столбцы.**"
   ]
  },
  {
   "cell_type": "code",
   "execution_count": 14,
   "id": "115fc2d5",
   "metadata": {
    "deletable": false
   },
   "outputs": [],
   "source": [
    "data['education'] = data['education'].str.lower()"
   ]
  },
  {
   "cell_type": "markdown",
   "id": "6ec1edec",
   "metadata": {
    "deletable": false,
    "editable": false,
    "id": "dc587695"
   },
   "source": [
    "**Задание 15. Выведите на экран количество строк-дубликатов в данных. Если такие строки присутствуют, удалите их.**"
   ]
  },
  {
   "cell_type": "code",
   "execution_count": 15,
   "id": "7f21a446",
   "metadata": {
    "deletable": false,
    "id": "3ee445e4",
    "outputId": "9684deba-1934-42d1-99e1-cda61740f822"
   },
   "outputs": [
    {
     "data": {
      "text/plain": [
       "71"
      ]
     },
     "execution_count": 15,
     "metadata": {},
     "output_type": "execute_result"
    }
   ],
   "source": [
    "data.duplicated().sum()"
   ]
  },
  {
   "cell_type": "code",
   "execution_count": 16,
   "id": "4083564b",
   "metadata": {
    "deletable": false,
    "id": "8575fe05"
   },
   "outputs": [],
   "source": [
    "data = data.drop_duplicates()"
   ]
  },
  {
   "cell_type": "markdown",
   "id": "1f275115",
   "metadata": {
    "deletable": false,
    "editable": false,
    "id": "9904cf55"
   },
   "source": [
    "### Категоризация данных"
   ]
  },
  {
   "cell_type": "markdown",
   "id": "a6ccbfbb",
   "metadata": {
    "deletable": false,
    "editable": false,
    "id": "72fcc8a2"
   },
   "source": [
    "**Задание 16. На основании диапазонов, указанных ниже, создайте в датафрейме `data` столбец `total_income_category` с категориями:**\n",
    "\n",
    "- 0–30000 — `'E'`;\n",
    "- 30001–50000 — `'D'`;\n",
    "- 50001–200000 — `'C'`;\n",
    "- 200001–1000000 — `'B'`;\n",
    "- 1000001 и выше — `'A'`.\n",
    "\n",
    "\n",
    "**Например, кредитополучателю с доходом 25000 нужно назначить категорию `'E'`, а клиенту, получающему 235000, — `'B'`. Используйте собственную функцию с именем `categorize_income()` и метод `apply()`.**"
   ]
  },
  {
   "cell_type": "code",
   "execution_count": 17,
   "id": "4cc19d59",
   "metadata": {
    "deletable": false,
    "id": "e1771346"
   },
   "outputs": [],
   "source": [
    "def categorize_income(income):\n",
    "    try:\n",
    "        if 0 <= income <= 30000:\n",
    "            return 'E'\n",
    "        elif 30001 <= income <= 50000:\n",
    "            return 'D'\n",
    "        elif 50001 <= income <= 200000:\n",
    "            return 'C'\n",
    "        elif 200001 <= income <= 1000000:\n",
    "            return 'B'\n",
    "        elif income >= 1000001:\n",
    "            return 'A'\n",
    "    except:\n",
    "        pass"
   ]
  },
  {
   "cell_type": "code",
   "execution_count": 18,
   "id": "e4c4019f",
   "metadata": {
    "deletable": false,
    "id": "d5f3586d"
   },
   "outputs": [],
   "source": [
    "data['total_income_category'] = data['total_income'].apply(categorize_income)"
   ]
  },
  {
   "cell_type": "markdown",
   "id": "083e0158",
   "metadata": {
    "deletable": false,
    "editable": false,
    "id": "dde49b5c"
   },
   "source": [
    "**Задание 17. Выведите на экран перечень уникальных целей взятия кредита из столбца `purpose`.**"
   ]
  },
  {
   "cell_type": "code",
   "execution_count": 19,
   "id": "8f27a9ef",
   "metadata": {
    "deletable": false,
    "id": "f67ce9b3",
    "outputId": "673c12d9-7d7e-4ae0-9812-c622c89dd244"
   },
   "outputs": [
    {
     "data": {
      "text/plain": [
       "array(['покупка жилья', 'приобретение автомобиля',\n",
       "       'дополнительное образование', 'сыграть свадьбу',\n",
       "       'операции с жильем', 'образование', 'на проведение свадьбы',\n",
       "       'покупка жилья для семьи', 'покупка недвижимости',\n",
       "       'покупка коммерческой недвижимости', 'покупка жилой недвижимости',\n",
       "       'строительство собственной недвижимости', 'недвижимость',\n",
       "       'строительство недвижимости', 'на покупку подержанного автомобиля',\n",
       "       'на покупку своего автомобиля',\n",
       "       'операции с коммерческой недвижимостью',\n",
       "       'строительство жилой недвижимости', 'жилье',\n",
       "       'операции со своей недвижимостью', 'автомобили',\n",
       "       'заняться образованием', 'сделка с подержанным автомобилем',\n",
       "       'получение образования', 'автомобиль', 'свадьба',\n",
       "       'получение дополнительного образования', 'покупка своего жилья',\n",
       "       'операции с недвижимостью', 'получение высшего образования',\n",
       "       'свой автомобиль', 'сделка с автомобилем',\n",
       "       'профильное образование', 'высшее образование',\n",
       "       'покупка жилья для сдачи', 'на покупку автомобиля', 'ремонт жилью',\n",
       "       'заняться высшим образованием'], dtype=object)"
      ]
     },
     "execution_count": 19,
     "metadata": {},
     "output_type": "execute_result"
    }
   ],
   "source": [
    "data['purpose'].unique()"
   ]
  },
  {
   "cell_type": "markdown",
   "id": "f4ec97ee",
   "metadata": {
    "deletable": false,
    "editable": false,
    "id": "85d0aef0"
   },
   "source": [
    "**Задание 18. Создайте функцию, которая на основании данных из столбца `purpose` сформирует новый столбец `purpose_category`, в который войдут следующие категории:**\n",
    "\n",
    "- `'операции с автомобилем'`,\n",
    "- `'операции с недвижимостью'`,\n",
    "- `'проведение свадьбы'`,\n",
    "- `'получение образования'`.\n",
    "\n",
    "**Например, если в столбце `purpose` находится подстрока `'на покупку автомобиля'`, то в столбце `purpose_category` должна появиться строка `'операции с автомобилем'`.**\n",
    "\n",
    "**Используйте собственную функцию с именем `categorize_purpose()` и метод `apply()`. Изучите данные в столбце `purpose` и определите, какие подстроки помогут вам правильно определить категорию.**"
   ]
  },
  {
   "cell_type": "code",
   "execution_count": 20,
   "id": "5f5c7b1e",
   "metadata": {
    "deletable": false,
    "id": "e149fab4"
   },
   "outputs": [],
   "source": [
    "def categorize_purpose(row):\n",
    "    try:\n",
    "        if 'автом' in row:\n",
    "            return 'операции с автомобилем'\n",
    "        elif 'жил' in row or 'недвиж' in row:\n",
    "            return 'операции с недвижимостью'\n",
    "        elif 'свад' in row:\n",
    "            return 'проведение свадьбы'\n",
    "        elif 'образов' in row:\n",
    "            return 'получение образования'\n",
    "    except:\n",
    "        return 'нет категории'"
   ]
  },
  {
   "cell_type": "code",
   "execution_count": 21,
   "id": "9532152a",
   "metadata": {
    "deletable": false,
    "id": "bf36e69b"
   },
   "outputs": [],
   "source": [
    "data['purpose_category'] = data['purpose'].apply(categorize_purpose)"
   ]
  },
  {
   "cell_type": "markdown",
   "id": "fc2ebb0d",
   "metadata": {
    "deletable": false,
    "editable": false,
    "id": "09b242bf"
   },
   "source": [
    "### Шаг 3. Исследуйте данные и ответьте на вопросы"
   ]
  },
  {
   "cell_type": "markdown",
   "id": "75a85a86",
   "metadata": {
    "deletable": false,
    "editable": false,
    "id": "c5d66278"
   },
   "source": [
    "#### 3.1 Есть ли зависимость между количеством детей и возвратом кредита в срок?"
   ]
  },
  {
   "cell_type": "code",
   "execution_count": 22,
   "id": "a93a6458",
   "metadata": {
    "deletable": false,
    "id": "2cacfc4a"
   },
   "outputs": [
    {
     "name": "stdout",
     "output_type": "stream",
     "text": [
      "Сводная таблица 1\n"
     ]
    },
    {
     "data": {
      "text/html": [
       "<style  type=\"text/css\" >\n",
       "</style><table id=\"T_a1891_\" ><thead>    <tr>        <th class=\"blank level0\" ></th>        <th class=\"col_heading level0 col0\" >count</th>        <th class=\"col_heading level0 col1\" >sum</th>        <th class=\"col_heading level0 col2\" >mean</th>    </tr>    <tr>        <th class=\"blank level1\" ></th>        <th class=\"col_heading level1 col0\" >debt</th>        <th class=\"col_heading level1 col1\" >debt</th>        <th class=\"col_heading level1 col2\" >debt</th>    </tr>    <tr>        <th class=\"index_name level0\" >children</th>        <th class=\"blank\" ></th>        <th class=\"blank\" ></th>        <th class=\"blank\" ></th>    </tr></thead><tbody>\n",
       "                <tr>\n",
       "                        <th id=\"T_a1891_level0_row0\" class=\"row_heading level0 row0\" >0</th>\n",
       "                        <td id=\"T_a1891_row0_col0\" class=\"data row0 col0\" >14091</td>\n",
       "                        <td id=\"T_a1891_row0_col1\" class=\"data row0 col1\" >1063</td>\n",
       "                        <td id=\"T_a1891_row0_col2\" class=\"data row0 col2\" >7.54%</td>\n",
       "            </tr>\n",
       "            <tr>\n",
       "                        <th id=\"T_a1891_level0_row1\" class=\"row_heading level0 row1\" >1</th>\n",
       "                        <td id=\"T_a1891_row1_col0\" class=\"data row1 col0\" >4808</td>\n",
       "                        <td id=\"T_a1891_row1_col1\" class=\"data row1 col1\" >444</td>\n",
       "                        <td id=\"T_a1891_row1_col2\" class=\"data row1 col2\" >9.23%</td>\n",
       "            </tr>\n",
       "            <tr>\n",
       "                        <th id=\"T_a1891_level0_row2\" class=\"row_heading level0 row2\" >2</th>\n",
       "                        <td id=\"T_a1891_row2_col0\" class=\"data row2 col0\" >2052</td>\n",
       "                        <td id=\"T_a1891_row2_col1\" class=\"data row2 col1\" >194</td>\n",
       "                        <td id=\"T_a1891_row2_col2\" class=\"data row2 col2\" >9.45%</td>\n",
       "            </tr>\n",
       "            <tr>\n",
       "                        <th id=\"T_a1891_level0_row3\" class=\"row_heading level0 row3\" >3</th>\n",
       "                        <td id=\"T_a1891_row3_col0\" class=\"data row3 col0\" >330</td>\n",
       "                        <td id=\"T_a1891_row3_col1\" class=\"data row3 col1\" >27</td>\n",
       "                        <td id=\"T_a1891_row3_col2\" class=\"data row3 col2\" >8.18%</td>\n",
       "            </tr>\n",
       "            <tr>\n",
       "                        <th id=\"T_a1891_level0_row4\" class=\"row_heading level0 row4\" >4</th>\n",
       "                        <td id=\"T_a1891_row4_col0\" class=\"data row4 col0\" >41</td>\n",
       "                        <td id=\"T_a1891_row4_col1\" class=\"data row4 col1\" >4</td>\n",
       "                        <td id=\"T_a1891_row4_col2\" class=\"data row4 col2\" >9.76%</td>\n",
       "            </tr>\n",
       "            <tr>\n",
       "                        <th id=\"T_a1891_level0_row5\" class=\"row_heading level0 row5\" >5</th>\n",
       "                        <td id=\"T_a1891_row5_col0\" class=\"data row5 col0\" >9</td>\n",
       "                        <td id=\"T_a1891_row5_col1\" class=\"data row5 col1\" >0</td>\n",
       "                        <td id=\"T_a1891_row5_col2\" class=\"data row5 col2\" >0.00%</td>\n",
       "            </tr>\n",
       "    </tbody></table>"
      ],
      "text/plain": [
       "<pandas.io.formats.style.Styler at 0x7f14b406ba90>"
      ]
     },
     "metadata": {},
     "output_type": "display_data"
    },
    {
     "name": "stdout",
     "output_type": "stream",
     "text": [
      "График зависимости процента просрочки по кредиту, %\n"
     ]
    }
   ],
   "source": [
    "# Подготовка данных для анализа, формирование сводной таблицы\n",
    "df1 = data.pivot_table(index = 'children', values = 'debt', aggfunc = ['count', 'sum', 'mean'])\\\n",
    "    .sort_values(by = ('children'), ascending = True)\\\n",
    "    .style.format({('mean', 'debt') : '{:.2%}'})\n",
    "\n",
    "print('Сводная таблица 1')\n",
    "display(df1)\n",
    "\n",
    "# columns 'total'  - Общее количество выданных кредитов\n",
    "# columns 'target' - Количество просроченных кредитов\n",
    "# columns 'share'  - Процент просрочки от общего количества\n",
    "\n",
    "print('График зависимости процента просрочки по кредиту, %')\n",
    "\n",
    "# import seaborn as sns\n",
    "# sns.lineplot(data = df1, x = 'children', y = 'debt')"
   ]
  },
  {
   "cell_type": "markdown",
   "id": "13957145",
   "metadata": {
    "deletable": false,
    "id": "3a6b99ec"
   },
   "source": [
    "**Вывод:** Исследуя График зависимости процента просрочки по кредиту можно сделать вывод, что увеличение количества детей приводит к увеличению процента просрочки по кредиту. При этом сильно выделяется значение процента для количества детей равного 5. Это можно отнести к исключению, так как общее количество взятых кредитов всего 9, такое значение не является показательным для общего количества и из данного графика можно исключить"
   ]
  },
  {
   "cell_type": "markdown",
   "id": "38c3b97b",
   "metadata": {
    "deletable": false,
    "editable": false,
    "id": "97be82ca"
   },
   "source": [
    "#### 3.2 Есть ли зависимость между семейным положением и возвратом кредита в срок?"
   ]
  },
  {
   "cell_type": "code",
   "execution_count": 24,
   "id": "4894456a",
   "metadata": {
    "deletable": false,
    "id": "dc3f7ee8"
   },
   "outputs": [
    {
     "name": "stdout",
     "output_type": "stream",
     "text": [
      "Сводная таблица 2\n"
     ]
    },
    {
     "data": {
      "text/html": [
       "<div>\n",
       "<style scoped>\n",
       "    .dataframe tbody tr th:only-of-type {\n",
       "        vertical-align: middle;\n",
       "    }\n",
       "\n",
       "    .dataframe tbody tr th {\n",
       "        vertical-align: top;\n",
       "    }\n",
       "\n",
       "    .dataframe thead th {\n",
       "        text-align: right;\n",
       "    }\n",
       "</style>\n",
       "<table border=\"1\" class=\"dataframe\">\n",
       "  <thead>\n",
       "    <tr style=\"text-align: right;\">\n",
       "      <th></th>\n",
       "      <th>total</th>\n",
       "      <th>target</th>\n",
       "      <th>share</th>\n",
       "    </tr>\n",
       "    <tr>\n",
       "      <th>family_status</th>\n",
       "      <th></th>\n",
       "      <th></th>\n",
       "      <th></th>\n",
       "    </tr>\n",
       "  </thead>\n",
       "  <tbody>\n",
       "    <tr>\n",
       "      <th>вдовец / вдова</th>\n",
       "      <td>951</td>\n",
       "      <td>63</td>\n",
       "      <td>6.6</td>\n",
       "    </tr>\n",
       "    <tr>\n",
       "      <th>в разводе</th>\n",
       "      <td>1189</td>\n",
       "      <td>84</td>\n",
       "      <td>7.1</td>\n",
       "    </tr>\n",
       "    <tr>\n",
       "      <th>женат / замужем</th>\n",
       "      <td>12261</td>\n",
       "      <td>927</td>\n",
       "      <td>7.6</td>\n",
       "    </tr>\n",
       "    <tr>\n",
       "      <th>гражданский брак</th>\n",
       "      <td>4134</td>\n",
       "      <td>385</td>\n",
       "      <td>9.3</td>\n",
       "    </tr>\n",
       "    <tr>\n",
       "      <th>Не женат / не замужем</th>\n",
       "      <td>2796</td>\n",
       "      <td>273</td>\n",
       "      <td>9.8</td>\n",
       "    </tr>\n",
       "  </tbody>\n",
       "</table>\n",
       "</div>"
      ],
      "text/plain": [
       "                       total  target  share\n",
       "family_status                              \n",
       "вдовец / вдова           951      63    6.6\n",
       "в разводе               1189      84    7.1\n",
       "женат / замужем        12261     927    7.6\n",
       "гражданский брак        4134     385    9.3\n",
       "Не женат / не замужем   2796     273    9.8"
      ]
     },
     "metadata": {},
     "output_type": "display_data"
    },
    {
     "name": "stdout",
     "output_type": "stream",
     "text": [
      "Зависимость просрочки по кредиту от семейного положения, %\n"
     ]
    }
   ],
   "source": [
    "# Подготовка данных для анализа, формирование сводной таблицы\n",
    "import matplotlib.pyplot as plt\n",
    "\n",
    "df2 = data.pivot_table(index = [ 'family_status'], values = 'debt', aggfunc = {'count','sum'})\n",
    "df2 = df2.rename(columns={'count':'total','sum':'target'})\n",
    "df2['share'] = round(df2['target'] / df2['total'] * 100, 1)\n",
    "df2 = df2.sort_values(by='share', ascending=True)\n",
    "\n",
    "print('Сводная таблица 2')\n",
    "display(df2)\n",
    "\n",
    "# columns 'total'  - Общее количество выданных кредитов\n",
    "# columns 'target' - Количество просроченных кредитов\n",
    "# columns 'share'  - Процент просрочки от общего количества\n",
    "\n",
    "print('Зависимость просрочки по кредиту от семейного положения, %')\n",
    "\n",
    "#fig, target = plt.subplots(nrows=1, ncols=1, figsize=(10, 10))\n",
    "#sns.lineplot(data = df2, x = 'family_status', y = 'share')\n",
    "#fig.set_size_inches(9,9)"
   ]
  },
  {
   "cell_type": "markdown",
   "id": "7e634c27",
   "metadata": {
    "deletable": false,
    "id": "1cef7837"
   },
   "source": [
    "**Вывод:** Исходя из графика зависимости просрочки по кредиту от семейного положения наблюдается существеное отличие заделженностей. Так, к примеру, клиенты не состоящие в браке и живущие гражданским браком имеют наибольшую частоту просрочки. Связать это можно с возрастом и незрелостью клиентов, вероятнее всего это молодые люди. Клиенты в браке имеют умеренный уровень задолженносте. Самые ответственные и дисциплинированные клиенты - в разводе, или клиенты потерявшие супруга, имея негативный опыт семейной жизни они более рационально подходят к финансовому вопросу"
   ]
  },
  {
   "cell_type": "markdown",
   "id": "7e268fd6",
   "metadata": {
    "deletable": false,
    "editable": false,
    "id": "1e8b2fca"
   },
   "source": [
    "#### 3.3 Есть ли зависимость между уровнем дохода и возвратом кредита в срок?"
   ]
  },
  {
   "cell_type": "code",
   "execution_count": 25,
   "id": "6bad81bc",
   "metadata": {
    "deletable": false,
    "id": "cd7e3720"
   },
   "outputs": [
    {
     "name": "stdout",
     "output_type": "stream",
     "text": [
      "Сводная таблица 3\n"
     ]
    },
    {
     "data": {
      "text/html": [
       "<div>\n",
       "<style scoped>\n",
       "    .dataframe tbody tr th:only-of-type {\n",
       "        vertical-align: middle;\n",
       "    }\n",
       "\n",
       "    .dataframe tbody tr th {\n",
       "        vertical-align: top;\n",
       "    }\n",
       "\n",
       "    .dataframe thead th {\n",
       "        text-align: right;\n",
       "    }\n",
       "</style>\n",
       "<table border=\"1\" class=\"dataframe\">\n",
       "  <thead>\n",
       "    <tr style=\"text-align: right;\">\n",
       "      <th></th>\n",
       "      <th>total</th>\n",
       "      <th>target</th>\n",
       "      <th>share</th>\n",
       "    </tr>\n",
       "    <tr>\n",
       "      <th>total_income_category</th>\n",
       "      <th></th>\n",
       "      <th></th>\n",
       "      <th></th>\n",
       "    </tr>\n",
       "  </thead>\n",
       "  <tbody>\n",
       "    <tr>\n",
       "      <th>A</th>\n",
       "      <td>25</td>\n",
       "      <td>2</td>\n",
       "      <td>8.0</td>\n",
       "    </tr>\n",
       "    <tr>\n",
       "      <th>B</th>\n",
       "      <td>5014</td>\n",
       "      <td>354</td>\n",
       "      <td>7.1</td>\n",
       "    </tr>\n",
       "    <tr>\n",
       "      <th>C</th>\n",
       "      <td>15921</td>\n",
       "      <td>1353</td>\n",
       "      <td>8.5</td>\n",
       "    </tr>\n",
       "    <tr>\n",
       "      <th>D</th>\n",
       "      <td>349</td>\n",
       "      <td>21</td>\n",
       "      <td>6.0</td>\n",
       "    </tr>\n",
       "    <tr>\n",
       "      <th>E</th>\n",
       "      <td>22</td>\n",
       "      <td>2</td>\n",
       "      <td>9.1</td>\n",
       "    </tr>\n",
       "  </tbody>\n",
       "</table>\n",
       "</div>"
      ],
      "text/plain": [
       "                       total  target  share\n",
       "total_income_category                      \n",
       "A                         25       2    8.0\n",
       "B                       5014     354    7.1\n",
       "C                      15921    1353    8.5\n",
       "D                        349      21    6.0\n",
       "E                         22       2    9.1"
      ]
     },
     "metadata": {},
     "output_type": "display_data"
    },
    {
     "name": "stdout",
     "output_type": "stream",
     "text": [
      "Зависимость между уровнем дохода и возвратом кредита, %\n"
     ]
    }
   ],
   "source": [
    "# Подготовка данных для анализа, формирование сводной таблицы\n",
    "df3 = data.pivot_table(index = [ 'total_income_category'], values = 'debt', aggfunc = {'count','sum'})\n",
    "df3 = df3.rename(columns={'count':'total','sum':'target'})\n",
    "df3['share'] = round(df3['target'] / df3['total'] * 100, 1)\n",
    "df3 = df3.sort_values(by='total_income_category', ascending=True)\n",
    "print('Сводная таблица 3')\n",
    "display(df3)\n",
    "\n",
    "# columns 'total_income_category' - Категории дохода:\n",
    "                                    # 0–30000 — 'E';\n",
    "                                    # 30001–50000 — 'D';\n",
    "                                    # 50001–200000 — 'C';\n",
    "                                    # 200001–1000000 — 'B';\n",
    "                                    # 1000001 и выше — 'A'.\n",
    "# columns 'total'                 - Общее количество выданных кредитов\n",
    "# columns 'target'                - Количество просроченных кредитов\n",
    "# columns 'share'                 - Процент просрочки от общего количества\n",
    "\n",
    "print('Зависимость между уровнем дохода и возвратом кредита, %')\n",
    "\n",
    "#import seaborn as sns\n",
    "\n",
    "#sns.lineplot(data = df3, x = 'total_income_category', y = 'share')"
   ]
  },
  {
   "cell_type": "markdown",
   "id": "4fd607b2",
   "metadata": {
    "deletable": false,
    "id": "e8593def"
   },
   "source": [
    "**Вывод:**  Для категорий дохода А и Е данных недостаточно для объективного анализа, эти категории рекомендуется не учитывать. По остальным категориям однозначной картины не наблюдается так как разница между категориями В и С составляет 1.4%. Категория D - клиенты со средним достатком имеют меньше всего просрочек."
   ]
  },
  {
   "cell_type": "markdown",
   "id": "f8af64d0",
   "metadata": {
    "deletable": false,
    "editable": false,
    "id": "99ecbd1f"
   },
   "source": [
    "#### 3.4 Как разные цели кредита влияют на его возврат в срок?"
   ]
  },
  {
   "cell_type": "code",
   "execution_count": 26,
   "id": "b20d5799",
   "metadata": {
    "deletable": false,
    "id": "2b687290"
   },
   "outputs": [
    {
     "name": "stdout",
     "output_type": "stream",
     "text": [
      "Сводная таблица 4\n"
     ]
    },
    {
     "data": {
      "text/html": [
       "<div>\n",
       "<style scoped>\n",
       "    .dataframe tbody tr th:only-of-type {\n",
       "        vertical-align: middle;\n",
       "    }\n",
       "\n",
       "    .dataframe tbody tr th {\n",
       "        vertical-align: top;\n",
       "    }\n",
       "\n",
       "    .dataframe thead th {\n",
       "        text-align: right;\n",
       "    }\n",
       "</style>\n",
       "<table border=\"1\" class=\"dataframe\">\n",
       "  <thead>\n",
       "    <tr style=\"text-align: right;\">\n",
       "      <th></th>\n",
       "      <th>total</th>\n",
       "      <th>target</th>\n",
       "      <th>share</th>\n",
       "    </tr>\n",
       "    <tr>\n",
       "      <th>purpose_category</th>\n",
       "      <th></th>\n",
       "      <th></th>\n",
       "      <th></th>\n",
       "    </tr>\n",
       "  </thead>\n",
       "  <tbody>\n",
       "    <tr>\n",
       "      <th>операции с недвижимостью</th>\n",
       "      <td>10751</td>\n",
       "      <td>780</td>\n",
       "      <td>7.3</td>\n",
       "    </tr>\n",
       "    <tr>\n",
       "      <th>проведение свадьбы</th>\n",
       "      <td>2313</td>\n",
       "      <td>183</td>\n",
       "      <td>7.9</td>\n",
       "    </tr>\n",
       "    <tr>\n",
       "      <th>операции с автомобилем</th>\n",
       "      <td>4279</td>\n",
       "      <td>400</td>\n",
       "      <td>9.3</td>\n",
       "    </tr>\n",
       "    <tr>\n",
       "      <th>получение образования</th>\n",
       "      <td>3988</td>\n",
       "      <td>369</td>\n",
       "      <td>9.3</td>\n",
       "    </tr>\n",
       "  </tbody>\n",
       "</table>\n",
       "</div>"
      ],
      "text/plain": [
       "                          total  target  share\n",
       "purpose_category                              \n",
       "операции с недвижимостью  10751     780    7.3\n",
       "проведение свадьбы         2313     183    7.9\n",
       "операции с автомобилем     4279     400    9.3\n",
       "получение образования      3988     369    9.3"
      ]
     },
     "metadata": {},
     "output_type": "display_data"
    },
    {
     "name": "stdout",
     "output_type": "stream",
     "text": [
      "Зависимость между категориями целей кредита и его просрочки, %\n"
     ]
    }
   ],
   "source": [
    "# Подготовка данных для анализа, формирование сводной таблицы\n",
    "df4 = data.pivot_table(index = [ 'purpose_category'], values = 'debt', aggfunc = {'count','sum'})\n",
    "df4 = df4.rename(columns={'count':'total','sum':'target'})\n",
    "df4['share'] = round(df4['target'] / df4['total'] * 100, 1)\n",
    "df4 = df4.sort_values(by='share', ascending=True)\n",
    "print('Сводная таблица 4')\n",
    "display(df4)\n",
    "\n",
    "# columns 'purpose_category' - Категории целей кредита\n",
    "# columns 'total'            - Общее количество выданных кредитов\n",
    "# columns 'target'           - Количество просроченных кредитов\n",
    "# columns 'share'            - Процент просрочки от общего количества\n",
    "\n",
    "print('Зависимость между категориями целей кредита и его просрочки, %')\n",
    "\n",
    "#fig, target = plt.subplots(nrows=1, ncols=1, figsize=(10, 10))\n",
    "#sns.lineplot(data = df4, x = 'purpose_category', y = 'share')\n",
    "#fig.set_size_inches(10,10)"
   ]
  },
  {
   "cell_type": "markdown",
   "id": "3e883c53",
   "metadata": {
    "deletable": false,
    "id": "b4bb2ce6"
   },
   "source": [
    "**Вывод:**  <br>Больше всего выделяется две равнозначные категории по количеству просрочек - кредиты на получение образования и операций с автомобилями. Повышенное количество просрочек может быть связано с возрастом и загруженностью клиента (в категории образования), а также уровнем заработка (в категории с автомобилями), которого не достаточно для обслуживание автомобиля, его страхование и ремонт"
   ]
  },
  {
   "cell_type": "markdown",
   "id": "ec345638",
   "metadata": {
    "deletable": false,
    "editable": false,
    "id": "09c3ac4c"
   },
   "source": [
    "#### 3.5 Приведите возможные причины появления пропусков в исходных данных."
   ]
  },
  {
   "cell_type": "markdown",
   "id": "109adab1",
   "metadata": {
    "deletable": false,
    "id": "9da2ceda"
   },
   "source": [
    "Пропуски бывают трёх типов:\n",
    "<br> \n",
    "<br> <b>Полностью случайные: </b> если вероятность встретить пропуск не зависит ни от каких других значений.\n",
    "<br> \n",
    "<br> <b>Случайные:</b> если вероятность пропуска зависит от других значений в наборе данных, но не от значений собственного столбца.\n",
    "<br> \n",
    "<br> <b>Неслучайные:</b> если вероятность пропуска зависит от других значений, в том числе и от значений собственного столбца.\n",
    "<br>\n",
    "<br> Для выявления причин возникновения пропусков необходимо сначала выяснить в каких ячейках, строках, или столбцах датафрейма содержатся пропуски, затем пройтись по цепочке сброра данных:\n",
    "<br> 1) ввод данных клиентом (нежелание раскрывать информацию о себе);\n",
    "<br> 2) путь передачи информации из ячейки в базу данных (возможно, неправильный код адресации в БД);\n",
    "<br> 3) выгрузка данных из базы для анализа."
   ]
  },
  {
   "cell_type": "markdown",
   "id": "9932535c",
   "metadata": {
    "deletable": false,
    "editable": false,
    "id": "7b0487d6"
   },
   "source": [
    "#### 3.6 Объясните, почему заполнить пропуски медианным значением — лучшее решение для количественных переменных."
   ]
  },
  {
   "cell_type": "markdown",
   "id": "1fe29fe8",
   "metadata": {
    "deletable": false,
    "id": "7ecf2b8e"
   },
   "source": [
    "*Ответ:*\n",
    "<br><b>Медиана</b> — это число, которое является серединой множества чисел, то есть половина чисел имеют значения большие, чем медиана, а половина чисел имеют значения меньшие, чем медиана.\n",
    "<br>\n",
    "<br>Применение средней арифметической величины уместно в том случае, когда значения имеют нормальный закон распределения. Медиана менее чувствительна к выбросам, поэтому ее предпочтительней использовать при наличии аномальных величин. "
   ]
  },
  {
   "cell_type": "markdown",
   "id": "64549c09",
   "metadata": {
    "deletable": false,
    "editable": false,
    "id": "6db5255a"
   },
   "source": [
    "### Шаг 4: общий вывод."
   ]
  },
  {
   "cell_type": "markdown",
   "id": "24a59cec",
   "metadata": {
    "deletable": false,
    "id": "bad65432"
   },
   "source": [
    "**Краткий обзор проведённой работы**\n",
    "<br>\n",
    "Выполнена обработка пропусков в строках total_income - заполнение их медианным значением по каждому типу из столбца income_type\n",
    "\n",
    "Выявлены аномально большие значения трудового стажа в категориях безработные и пенсионеры\n",
    "\n",
    "В столбце children удалены строки, в которых встречаются аномальные значения по количеству детей (-1 и 20) из датафрейма\n",
    "\n",
    "Заполнены пропуски в столбце days_employed медианными значениями по каждому типу занятости income_type\n",
    "\n",
    "Заменены вещественные типы данных в столбце total_income на целочисленные\n",
    "\n",
    "Удалены неявные дубликаты в столбце education с разным регистром букв. В этом столбце есть одни и те же значения, но записанные по-разному: с использованием заглавных и строчных букв\n",
    "\n",
    "Проведена категоризация доходов клиентов в заданных диапазонах, создан в датафрейме data столбец total_income_category с категориями A, B, C, D, E\n",
    "\n",
    "Сформирован новый столбец purpose_category из столбца purpose, в который помещены следующие категории:\n",
    "'операции с автомобилем',\n",
    "'операции с недвижимостью',\n",
    "'проведение свадьбы',\n",
    "'получение образования'\n",
    "\n",
    "**Рассмотрены гиппотезы:**\n",
    "- Есть ли зависимость между количеством детей и возвратом кредита в срок?\n",
    "- Есть ли зависимость между семейным положением и возвратом кредита в срок?\n",
    "- Есть ли зависимость между уровнем дохода и возвратом кредита в срок?\n",
    "- Как разные цели кредита влияют на его возврат в срок?\n",
    "\n",
    "**Главные выводы**\n",
    "<br>\n",
    "На основе данных от банка — статистики о платёжеспособности клиентов, проведена оценка влияния семейного положения и количества детей клиента на факт погашения кредита в срок. Установлено, что увеличение количества детей приводит к увеличению процента просрочки по кредиту. При этом сильно выделяется значение процента для количества детей равного 5. Это можно отнести к исключению, так как общее количество взятых кредитов всего 9, такое значение не является показательным для общего количества, данных по много детным (с 5-ю детьми) недостаточно для анализа.\n",
    "<br>\n",
    "<br>Исследуя зависимость просрочки по кредиту от семейного положения наблюдается существеное отличие заделженностей. Так, к примеру, клиенты не состоящие в браке и живущие гражданским браком имеют наибольшую частоту просрочки. Связать это можно с возрастом и незрелостью клиентов, вероятнее всего это молодые люди. Клиенты в браке имеют умеренный уровень задолженносте. Самые ответственные и дисциплинированные клиенты - в разводе, или клиенты потерявшие супруга, имея негативный опыт семейной жизни они более рационально подходят к финансовому вопросу\n",
    "<br>\n",
    "<br>При анализе просрочек по кредиту в зависимости отдохода клиентов банка выявлено недостаточность данных категорий дохода А и Е для объективного анализа, эти категории рекомендуется не учитывать. По остальным категориям однозначной картины не наблюдается так как разница между категориями В и С составляет 1.4%. Категория D - клиенты со средним достатком имеют меньше всего просрочек.\n",
    "<br>\n",
    "<br>В оценке кредитной истории по назначениям кредитов больше всего выделяется две равнозначные категории - кредиты на получение образования и операций с автомобилями. Повышенное количество просрочек может быть связано с возрастом и загруженностью клиента (в категории образования), а также уровнем заработка (в категории с автомобилями), которого не достаточно для обслуживание автомобиля, его страхование и ремонт.\n",
    "<br>\n",
    "<br>Результаты исследования могу быть учтены при построении модели кредитного скоринга — специальной системы, которая оценивает способность потенциального заёмщика вернуть кредит банку."
   ]
  }
 ],
 "metadata": {
  "ExecuteTimeLog": [
   {
    "duration": 47,
    "start_time": "2023-02-06T05:44:05.097Z"
   },
   {
    "duration": 553,
    "start_time": "2023-02-06T05:44:24.894Z"
   },
   {
    "duration": 30,
    "start_time": "2023-02-06T05:44:25.449Z"
   },
   {
    "duration": 19,
    "start_time": "2023-02-06T05:44:25.480Z"
   },
   {
    "duration": 9,
    "start_time": "2023-02-06T05:44:25.502Z"
   },
   {
    "duration": 37,
    "start_time": "2023-02-06T05:44:25.513Z"
   },
   {
    "duration": 4,
    "start_time": "2023-02-06T05:44:25.552Z"
   },
   {
    "duration": 14,
    "start_time": "2023-02-06T05:44:25.557Z"
   },
   {
    "duration": 5,
    "start_time": "2023-02-06T05:44:25.573Z"
   },
   {
    "duration": 29,
    "start_time": "2023-02-06T05:44:25.579Z"
   },
   {
    "duration": 4,
    "start_time": "2023-02-06T05:44:25.610Z"
   },
   {
    "duration": 51,
    "start_time": "2023-02-06T05:44:25.616Z"
   },
   {
    "duration": 11,
    "start_time": "2023-02-06T05:44:25.668Z"
   },
   {
    "duration": 4,
    "start_time": "2023-02-06T05:44:25.681Z"
   },
   {
    "duration": 22,
    "start_time": "2023-02-06T05:44:25.686Z"
   },
   {
    "duration": 23,
    "start_time": "2023-02-06T05:44:25.709Z"
   },
   {
    "duration": 18,
    "start_time": "2023-02-06T05:44:25.734Z"
   },
   {
    "duration": 4,
    "start_time": "2023-02-06T05:44:25.753Z"
   },
   {
    "duration": 15,
    "start_time": "2023-02-06T05:44:25.758Z"
   },
   {
    "duration": 29,
    "start_time": "2023-02-06T05:44:25.775Z"
   },
   {
    "duration": 4,
    "start_time": "2023-02-06T05:44:25.806Z"
   },
   {
    "duration": 18,
    "start_time": "2023-02-06T05:44:25.812Z"
   },
   {
    "duration": 1026,
    "start_time": "2023-02-06T05:44:25.832Z"
   },
   {
    "duration": 2,
    "start_time": "2023-02-06T05:44:26.859Z"
   },
   {
    "duration": 10,
    "start_time": "2023-02-06T05:44:26.863Z"
   },
   {
    "duration": 5,
    "start_time": "2023-02-06T05:44:26.875Z"
   },
   {
    "duration": 475,
    "start_time": "2023-02-06T06:59:49.359Z"
   },
   {
    "duration": 115,
    "start_time": "2023-02-06T07:07:55.937Z"
   },
   {
    "duration": 30,
    "start_time": "2023-02-06T07:20:04.220Z"
   },
   {
    "duration": 25,
    "start_time": "2023-02-06T07:21:10.881Z"
   },
   {
    "duration": 29,
    "start_time": "2023-02-06T07:21:37.523Z"
   },
   {
    "duration": 779,
    "start_time": "2023-02-06T07:21:57.746Z"
   },
   {
    "duration": 729,
    "start_time": "2023-02-06T07:36:06.923Z"
   },
   {
    "duration": 721,
    "start_time": "2023-02-06T07:36:12.229Z"
   },
   {
    "duration": 708,
    "start_time": "2023-02-06T07:58:13.281Z"
   },
   {
    "duration": 22,
    "start_time": "2023-02-06T08:06:32.562Z"
   },
   {
    "duration": 18,
    "start_time": "2023-02-06T08:07:08.381Z"
   },
   {
    "duration": 729,
    "start_time": "2023-02-06T08:07:38.924Z"
   },
   {
    "duration": 722,
    "start_time": "2023-02-06T08:08:02.478Z"
   },
   {
    "duration": 25,
    "start_time": "2023-02-06T08:08:34.684Z"
   },
   {
    "duration": 19,
    "start_time": "2023-02-06T08:08:43.612Z"
   },
   {
    "duration": 775,
    "start_time": "2023-02-06T08:09:20.934Z"
   },
   {
    "duration": 18,
    "start_time": "2023-02-06T08:09:36.472Z"
   },
   {
    "duration": 15,
    "start_time": "2023-02-06T08:10:23.598Z"
   },
   {
    "duration": 18,
    "start_time": "2023-02-06T08:10:33.058Z"
   },
   {
    "duration": 20,
    "start_time": "2023-02-06T08:13:37.402Z"
   },
   {
    "duration": 741,
    "start_time": "2023-02-06T08:37:54.360Z"
   },
   {
    "duration": 782,
    "start_time": "2023-02-06T08:38:16.495Z"
   },
   {
    "duration": 27,
    "start_time": "2023-02-06T08:48:32.255Z"
   },
   {
    "duration": 162,
    "start_time": "2023-02-06T08:49:11.819Z"
   },
   {
    "duration": 160,
    "start_time": "2023-02-06T08:49:31.024Z"
   },
   {
    "duration": 30,
    "start_time": "2023-02-06T08:50:13.902Z"
   },
   {
    "duration": 28,
    "start_time": "2023-02-06T08:50:36.401Z"
   },
   {
    "duration": 30,
    "start_time": "2023-02-06T08:51:00.859Z"
   },
   {
    "duration": 150,
    "start_time": "2023-02-06T08:51:21.005Z"
   },
   {
    "duration": 157,
    "start_time": "2023-02-06T08:51:33.778Z"
   },
   {
    "duration": 27,
    "start_time": "2023-02-06T08:52:11.103Z"
   },
   {
    "duration": 355,
    "start_time": "2023-02-06T08:52:34.783Z"
   },
   {
    "duration": 37,
    "start_time": "2023-02-06T08:52:54.137Z"
   },
   {
    "duration": 235,
    "start_time": "2023-02-06T08:53:04.348Z"
   },
   {
    "duration": 146,
    "start_time": "2023-02-06T09:01:51.590Z"
   },
   {
    "duration": 155,
    "start_time": "2023-02-06T09:02:19.508Z"
   },
   {
    "duration": 156,
    "start_time": "2023-02-06T09:03:21.282Z"
   },
   {
    "duration": 163,
    "start_time": "2023-02-06T09:14:06.125Z"
   },
   {
    "duration": 936,
    "start_time": "2023-02-06T09:14:50.156Z"
   },
   {
    "duration": 900,
    "start_time": "2023-02-06T09:15:21.030Z"
   },
   {
    "duration": 870,
    "start_time": "2023-02-06T09:15:54.159Z"
   },
   {
    "duration": 842,
    "start_time": "2023-02-06T09:16:17.257Z"
   },
   {
    "duration": 77,
    "start_time": "2023-02-06T09:16:56.777Z"
   },
   {
    "duration": 17,
    "start_time": "2023-02-06T09:16:56.856Z"
   },
   {
    "duration": 31,
    "start_time": "2023-02-06T09:16:56.875Z"
   },
   {
    "duration": 10,
    "start_time": "2023-02-06T09:16:56.908Z"
   },
   {
    "duration": 34,
    "start_time": "2023-02-06T09:16:56.920Z"
   },
   {
    "duration": 4,
    "start_time": "2023-02-06T09:16:56.955Z"
   },
   {
    "duration": 10,
    "start_time": "2023-02-06T09:16:56.961Z"
   },
   {
    "duration": 33,
    "start_time": "2023-02-06T09:16:56.973Z"
   },
   {
    "duration": 9,
    "start_time": "2023-02-06T09:16:57.008Z"
   },
   {
    "duration": 7,
    "start_time": "2023-02-06T09:16:57.018Z"
   },
   {
    "duration": 39,
    "start_time": "2023-02-06T09:16:57.027Z"
   },
   {
    "duration": 9,
    "start_time": "2023-02-06T09:16:57.068Z"
   },
   {
    "duration": 25,
    "start_time": "2023-02-06T09:16:57.079Z"
   },
   {
    "duration": 17,
    "start_time": "2023-02-06T09:16:57.107Z"
   },
   {
    "duration": 25,
    "start_time": "2023-02-06T09:16:57.126Z"
   },
   {
    "duration": 19,
    "start_time": "2023-02-06T09:16:57.153Z"
   },
   {
    "duration": 4,
    "start_time": "2023-02-06T09:16:57.174Z"
   },
   {
    "duration": 31,
    "start_time": "2023-02-06T09:16:57.180Z"
   },
   {
    "duration": 7,
    "start_time": "2023-02-06T09:16:57.213Z"
   },
   {
    "duration": 9,
    "start_time": "2023-02-06T09:16:57.222Z"
   },
   {
    "duration": 22,
    "start_time": "2023-02-06T09:16:57.233Z"
   },
   {
    "duration": 877,
    "start_time": "2023-02-06T09:16:57.258Z"
   },
   {
    "duration": 0,
    "start_time": "2023-02-06T09:16:58.136Z"
   },
   {
    "duration": 0,
    "start_time": "2023-02-06T09:16:58.138Z"
   },
   {
    "duration": 0,
    "start_time": "2023-02-06T09:16:58.139Z"
   },
   {
    "duration": 60,
    "start_time": "2023-02-07T15:41:54.059Z"
   },
   {
    "duration": 545,
    "start_time": "2023-02-07T15:42:03.954Z"
   },
   {
    "duration": 23,
    "start_time": "2023-02-07T15:42:04.502Z"
   },
   {
    "duration": 15,
    "start_time": "2023-02-07T15:42:04.527Z"
   },
   {
    "duration": 12,
    "start_time": "2023-02-07T15:42:04.544Z"
   },
   {
    "duration": 60,
    "start_time": "2023-02-07T15:42:04.559Z"
   },
   {
    "duration": 4,
    "start_time": "2023-02-07T15:42:04.621Z"
   },
   {
    "duration": 16,
    "start_time": "2023-02-07T15:42:04.626Z"
   },
   {
    "duration": 4,
    "start_time": "2023-02-07T15:42:04.644Z"
   },
   {
    "duration": 10,
    "start_time": "2023-02-07T15:42:04.649Z"
   },
   {
    "duration": 8,
    "start_time": "2023-02-07T15:42:04.660Z"
   },
   {
    "duration": 54,
    "start_time": "2023-02-07T15:42:04.669Z"
   },
   {
    "duration": 9,
    "start_time": "2023-02-07T15:42:04.724Z"
   },
   {
    "duration": 8,
    "start_time": "2023-02-07T15:42:04.734Z"
   },
   {
    "duration": 14,
    "start_time": "2023-02-07T15:42:04.745Z"
   },
   {
    "duration": 23,
    "start_time": "2023-02-07T15:42:04.760Z"
   },
   {
    "duration": 29,
    "start_time": "2023-02-07T15:42:04.785Z"
   },
   {
    "duration": 4,
    "start_time": "2023-02-07T15:42:04.815Z"
   },
   {
    "duration": 14,
    "start_time": "2023-02-07T15:42:04.820Z"
   },
   {
    "duration": 19,
    "start_time": "2023-02-07T15:42:04.836Z"
   },
   {
    "duration": 5,
    "start_time": "2023-02-07T15:42:04.857Z"
   },
   {
    "duration": 14,
    "start_time": "2023-02-07T15:42:04.864Z"
   },
   {
    "duration": 1781,
    "start_time": "2023-02-07T15:42:04.879Z"
   },
   {
    "duration": 0,
    "start_time": "2023-02-07T15:42:06.662Z"
   },
   {
    "duration": 0,
    "start_time": "2023-02-07T15:42:06.663Z"
   },
   {
    "duration": 0,
    "start_time": "2023-02-07T15:42:06.664Z"
   },
   {
    "duration": 879,
    "start_time": "2023-02-07T15:42:55.731Z"
   },
   {
    "duration": 138,
    "start_time": "2023-02-07T15:43:17.937Z"
   },
   {
    "duration": 154,
    "start_time": "2023-02-07T15:43:44.085Z"
   },
   {
    "duration": 137,
    "start_time": "2023-02-07T15:44:02.213Z"
   },
   {
    "duration": 149,
    "start_time": "2023-02-07T15:44:43.016Z"
   },
   {
    "duration": 156,
    "start_time": "2023-02-07T15:51:54.194Z"
   },
   {
    "duration": 157,
    "start_time": "2023-02-07T15:52:27.935Z"
   },
   {
    "duration": 231,
    "start_time": "2023-02-07T16:06:16.124Z"
   },
   {
    "duration": 11,
    "start_time": "2023-02-07T16:07:14.426Z"
   },
   {
    "duration": 188,
    "start_time": "2023-02-07T16:08:05.788Z"
   },
   {
    "duration": 151,
    "start_time": "2023-02-07T16:08:18.110Z"
   },
   {
    "duration": 181,
    "start_time": "2023-02-07T16:08:48.146Z"
   },
   {
    "duration": 28,
    "start_time": "2023-02-07T16:09:03.503Z"
   },
   {
    "duration": 234,
    "start_time": "2023-02-07T16:09:38.250Z"
   },
   {
    "duration": 162,
    "start_time": "2023-02-07T16:51:49.519Z"
   },
   {
    "duration": 156,
    "start_time": "2023-02-07T16:52:19.788Z"
   },
   {
    "duration": 155,
    "start_time": "2023-02-07T16:52:28.905Z"
   },
   {
    "duration": 248,
    "start_time": "2023-02-07T16:53:38.408Z"
   },
   {
    "duration": 245,
    "start_time": "2023-02-07T16:54:08.614Z"
   },
   {
    "duration": 246,
    "start_time": "2023-02-07T16:54:16.769Z"
   },
   {
    "duration": 338,
    "start_time": "2023-02-07T16:54:26.646Z"
   },
   {
    "duration": 251,
    "start_time": "2023-02-07T16:54:43.004Z"
   },
   {
    "duration": 428,
    "start_time": "2023-02-07T16:55:06.207Z"
   },
   {
    "duration": 178,
    "start_time": "2023-02-07T16:55:19.027Z"
   },
   {
    "duration": 177,
    "start_time": "2023-02-07T16:55:52.224Z"
   },
   {
    "duration": 191,
    "start_time": "2023-02-07T16:56:05.321Z"
   },
   {
    "duration": 168,
    "start_time": "2023-02-07T16:56:17.625Z"
   },
   {
    "duration": 185,
    "start_time": "2023-02-07T16:56:24.884Z"
   },
   {
    "duration": 147,
    "start_time": "2023-02-07T16:56:42.327Z"
   },
   {
    "duration": 198,
    "start_time": "2023-02-07T16:56:48.129Z"
   },
   {
    "duration": 274,
    "start_time": "2023-02-07T16:57:05.803Z"
   },
   {
    "duration": 179,
    "start_time": "2023-02-07T16:57:12.245Z"
   },
   {
    "duration": 173,
    "start_time": "2023-02-07T16:57:48.096Z"
   },
   {
    "duration": 157,
    "start_time": "2023-02-07T16:58:00.905Z"
   },
   {
    "duration": 162,
    "start_time": "2023-02-07T16:58:07.109Z"
   },
   {
    "duration": 150,
    "start_time": "2023-02-07T16:58:16.806Z"
   },
   {
    "duration": 169,
    "start_time": "2023-02-07T16:58:38.713Z"
   },
   {
    "duration": 146,
    "start_time": "2023-02-07T16:58:45.508Z"
   },
   {
    "duration": 172,
    "start_time": "2023-02-07T16:59:15.853Z"
   },
   {
    "duration": 177,
    "start_time": "2023-02-07T17:00:17.451Z"
   },
   {
    "duration": 183,
    "start_time": "2023-02-07T17:00:35.165Z"
   },
   {
    "duration": 166,
    "start_time": "2023-02-07T17:01:14.153Z"
   },
   {
    "duration": 23,
    "start_time": "2023-02-07T17:16:44.216Z"
   },
   {
    "duration": 139,
    "start_time": "2023-02-07T17:18:12.158Z"
   },
   {
    "duration": 203,
    "start_time": "2023-02-07T17:18:50.446Z"
   },
   {
    "duration": 157,
    "start_time": "2023-02-07T17:19:33.814Z"
   },
   {
    "duration": 24,
    "start_time": "2023-02-07T17:20:50.061Z"
   },
   {
    "duration": 68,
    "start_time": "2023-02-07T17:21:07.972Z"
   },
   {
    "duration": 15,
    "start_time": "2023-02-07T17:21:08.042Z"
   },
   {
    "duration": 24,
    "start_time": "2023-02-07T17:21:08.058Z"
   },
   {
    "duration": 29,
    "start_time": "2023-02-07T17:21:08.084Z"
   },
   {
    "duration": 128,
    "start_time": "2023-02-07T17:21:08.114Z"
   },
   {
    "duration": 3,
    "start_time": "2023-02-07T17:21:08.244Z"
   },
   {
    "duration": 12,
    "start_time": "2023-02-07T17:21:08.248Z"
   },
   {
    "duration": 6,
    "start_time": "2023-02-07T17:21:08.262Z"
   },
   {
    "duration": 9,
    "start_time": "2023-02-07T17:21:08.270Z"
   },
   {
    "duration": 32,
    "start_time": "2023-02-07T17:21:08.281Z"
   },
   {
    "duration": 38,
    "start_time": "2023-02-07T17:21:08.316Z"
   },
   {
    "duration": 11,
    "start_time": "2023-02-07T17:21:08.355Z"
   },
   {
    "duration": 31,
    "start_time": "2023-02-07T17:21:08.367Z"
   },
   {
    "duration": 32,
    "start_time": "2023-02-07T17:21:08.402Z"
   },
   {
    "duration": 29,
    "start_time": "2023-02-07T17:21:08.436Z"
   },
   {
    "duration": 21,
    "start_time": "2023-02-07T17:21:08.467Z"
   },
   {
    "duration": 5,
    "start_time": "2023-02-07T17:21:08.489Z"
   },
   {
    "duration": 32,
    "start_time": "2023-02-07T17:21:08.496Z"
   },
   {
    "duration": 16,
    "start_time": "2023-02-07T17:21:08.530Z"
   },
   {
    "duration": 8,
    "start_time": "2023-02-07T17:21:08.547Z"
   },
   {
    "duration": 15,
    "start_time": "2023-02-07T17:21:08.557Z"
   },
   {
    "duration": 161,
    "start_time": "2023-02-07T17:21:08.574Z"
   },
   {
    "duration": 211,
    "start_time": "2023-02-07T17:21:08.737Z"
   },
   {
    "duration": 22,
    "start_time": "2023-02-07T17:21:08.950Z"
   },
   {
    "duration": 4,
    "start_time": "2023-02-07T17:21:08.973Z"
   },
   {
    "duration": 42,
    "start_time": "2023-02-07T17:21:46.688Z"
   },
   {
    "duration": 20,
    "start_time": "2023-02-07T17:22:06.833Z"
   },
   {
    "duration": 182,
    "start_time": "2023-02-07T17:25:09.159Z"
   },
   {
    "duration": 41,
    "start_time": "2023-02-07T17:25:21.276Z"
   },
   {
    "duration": 134,
    "start_time": "2023-02-07T17:25:38.698Z"
   },
   {
    "duration": 169,
    "start_time": "2023-02-07T17:26:21.719Z"
   },
   {
    "duration": 141,
    "start_time": "2023-02-07T17:26:57.523Z"
   },
   {
    "duration": 148,
    "start_time": "2023-02-07T17:34:10.231Z"
   },
   {
    "duration": 147,
    "start_time": "2023-02-07T17:41:28.071Z"
   },
   {
    "duration": 151,
    "start_time": "2023-02-07T17:41:54.157Z"
   },
   {
    "duration": 66,
    "start_time": "2023-02-07T17:42:03.393Z"
   },
   {
    "duration": 16,
    "start_time": "2023-02-07T17:42:03.461Z"
   },
   {
    "duration": 17,
    "start_time": "2023-02-07T17:42:03.479Z"
   },
   {
    "duration": 9,
    "start_time": "2023-02-07T17:42:03.499Z"
   },
   {
    "duration": 34,
    "start_time": "2023-02-07T17:42:03.510Z"
   },
   {
    "duration": 3,
    "start_time": "2023-02-07T17:42:03.546Z"
   },
   {
    "duration": 13,
    "start_time": "2023-02-07T17:42:03.551Z"
   },
   {
    "duration": 6,
    "start_time": "2023-02-07T17:42:03.566Z"
   },
   {
    "duration": 31,
    "start_time": "2023-02-07T17:42:03.574Z"
   },
   {
    "duration": 5,
    "start_time": "2023-02-07T17:42:03.610Z"
   },
   {
    "duration": 40,
    "start_time": "2023-02-07T17:42:03.616Z"
   },
   {
    "duration": 9,
    "start_time": "2023-02-07T17:42:03.658Z"
   },
   {
    "duration": 7,
    "start_time": "2023-02-07T17:42:03.668Z"
   },
   {
    "duration": 24,
    "start_time": "2023-02-07T17:42:03.677Z"
   },
   {
    "duration": 18,
    "start_time": "2023-02-07T17:42:03.702Z"
   },
   {
    "duration": 18,
    "start_time": "2023-02-07T17:42:03.721Z"
   },
   {
    "duration": 4,
    "start_time": "2023-02-07T17:42:03.741Z"
   },
   {
    "duration": 37,
    "start_time": "2023-02-07T17:42:03.747Z"
   },
   {
    "duration": 18,
    "start_time": "2023-02-07T17:42:03.786Z"
   },
   {
    "duration": 9,
    "start_time": "2023-02-07T17:42:03.806Z"
   },
   {
    "duration": 27,
    "start_time": "2023-02-07T17:42:03.817Z"
   },
   {
    "duration": 189,
    "start_time": "2023-02-07T17:42:03.846Z"
   },
   {
    "duration": 208,
    "start_time": "2023-02-07T17:42:04.038Z"
   },
   {
    "duration": 159,
    "start_time": "2023-02-07T17:42:04.248Z"
   },
   {
    "duration": 3,
    "start_time": "2023-02-07T17:42:04.408Z"
   },
   {
    "duration": 149,
    "start_time": "2023-02-07T17:44:14.830Z"
   },
   {
    "duration": 145,
    "start_time": "2023-02-07T17:44:25.937Z"
   },
   {
    "duration": 141,
    "start_time": "2023-02-07T17:44:35.246Z"
   },
   {
    "duration": 233,
    "start_time": "2023-02-07T17:45:11.179Z"
   },
   {
    "duration": 22,
    "start_time": "2023-02-07T18:30:11.963Z"
   },
   {
    "duration": 21,
    "start_time": "2023-02-07T18:30:30.864Z"
   },
   {
    "duration": 199,
    "start_time": "2023-02-07T18:31:21.860Z"
   },
   {
    "duration": 291,
    "start_time": "2023-02-07T18:32:17.652Z"
   },
   {
    "duration": 337,
    "start_time": "2023-02-07T18:32:36.696Z"
   },
   {
    "duration": 236,
    "start_time": "2023-02-07T18:32:51.087Z"
   },
   {
    "duration": 299,
    "start_time": "2023-02-07T18:32:57.522Z"
   },
   {
    "duration": 137,
    "start_time": "2023-02-07T18:33:44.533Z"
   },
   {
    "duration": 143,
    "start_time": "2023-02-07T18:33:51.515Z"
   },
   {
    "duration": 146,
    "start_time": "2023-02-07T18:35:28.388Z"
   },
   {
    "duration": 67,
    "start_time": "2023-02-07T18:35:51.683Z"
   },
   {
    "duration": 16,
    "start_time": "2023-02-07T18:35:51.752Z"
   },
   {
    "duration": 18,
    "start_time": "2023-02-07T18:35:51.770Z"
   },
   {
    "duration": 24,
    "start_time": "2023-02-07T18:35:51.790Z"
   },
   {
    "duration": 34,
    "start_time": "2023-02-07T18:35:51.816Z"
   },
   {
    "duration": 3,
    "start_time": "2023-02-07T18:35:51.852Z"
   },
   {
    "duration": 14,
    "start_time": "2023-02-07T18:35:51.856Z"
   },
   {
    "duration": 5,
    "start_time": "2023-02-07T18:35:51.871Z"
   },
   {
    "duration": 23,
    "start_time": "2023-02-07T18:35:51.878Z"
   },
   {
    "duration": 13,
    "start_time": "2023-02-07T18:35:51.903Z"
   },
   {
    "duration": 43,
    "start_time": "2023-02-07T18:35:51.918Z"
   },
   {
    "duration": 9,
    "start_time": "2023-02-07T18:35:51.963Z"
   },
   {
    "duration": 3,
    "start_time": "2023-02-07T18:35:51.974Z"
   },
   {
    "duration": 21,
    "start_time": "2023-02-07T18:35:51.979Z"
   },
   {
    "duration": 36,
    "start_time": "2023-02-07T18:35:52.002Z"
   },
   {
    "duration": 17,
    "start_time": "2023-02-07T18:35:52.040Z"
   },
   {
    "duration": 3,
    "start_time": "2023-02-07T18:35:52.059Z"
   },
   {
    "duration": 16,
    "start_time": "2023-02-07T18:35:52.063Z"
   },
   {
    "duration": 19,
    "start_time": "2023-02-07T18:35:52.081Z"
   },
   {
    "duration": 9,
    "start_time": "2023-02-07T18:35:52.101Z"
   },
   {
    "duration": 30,
    "start_time": "2023-02-07T18:35:52.112Z"
   },
   {
    "duration": 146,
    "start_time": "2023-02-07T18:35:52.143Z"
   },
   {
    "duration": 180,
    "start_time": "2023-02-07T18:35:52.298Z"
   },
   {
    "duration": 162,
    "start_time": "2023-02-07T18:35:52.480Z"
   },
   {
    "duration": 165,
    "start_time": "2023-02-07T18:35:52.644Z"
   },
   {
    "duration": 249,
    "start_time": "2023-02-07T18:36:55.856Z"
   },
   {
    "duration": 166,
    "start_time": "2023-02-07T18:37:09.983Z"
   },
   {
    "duration": 168,
    "start_time": "2023-02-07T18:37:22.216Z"
   },
   {
    "duration": 183,
    "start_time": "2023-02-07T18:37:35.807Z"
   },
   {
    "duration": 184,
    "start_time": "2023-02-07T18:44:48.270Z"
   },
   {
    "duration": 175,
    "start_time": "2023-02-07T18:46:11.364Z"
   },
   {
    "duration": 291,
    "start_time": "2023-02-07T18:46:39.296Z"
   },
   {
    "duration": 185,
    "start_time": "2023-02-07T18:50:01.709Z"
   },
   {
    "duration": 48,
    "start_time": "2023-02-08T18:12:38.960Z"
   },
   {
    "duration": 9,
    "start_time": "2023-02-08T18:18:36.987Z"
   },
   {
    "duration": 790,
    "start_time": "2023-02-08T18:18:49.868Z"
   },
   {
    "duration": 41,
    "start_time": "2023-02-08T18:18:50.662Z"
   },
   {
    "duration": 25,
    "start_time": "2023-02-08T18:18:50.705Z"
   },
   {
    "duration": 21,
    "start_time": "2023-02-08T18:18:50.732Z"
   },
   {
    "duration": 52,
    "start_time": "2023-02-08T18:18:50.756Z"
   },
   {
    "duration": 5,
    "start_time": "2023-02-08T18:18:50.809Z"
   },
   {
    "duration": 29,
    "start_time": "2023-02-08T18:18:50.815Z"
   },
   {
    "duration": 30,
    "start_time": "2023-02-08T18:18:50.846Z"
   },
   {
    "duration": 25,
    "start_time": "2023-02-08T18:18:50.878Z"
   },
   {
    "duration": 22,
    "start_time": "2023-02-08T18:18:50.906Z"
   },
   {
    "duration": 64,
    "start_time": "2023-02-08T18:18:50.930Z"
   },
   {
    "duration": 12,
    "start_time": "2023-02-08T18:18:50.996Z"
   },
   {
    "duration": 25,
    "start_time": "2023-02-08T18:18:51.010Z"
   },
   {
    "duration": 71,
    "start_time": "2023-02-08T18:18:51.038Z"
   },
   {
    "duration": 26,
    "start_time": "2023-02-08T18:18:51.110Z"
   },
   {
    "duration": 27,
    "start_time": "2023-02-08T18:18:51.138Z"
   },
   {
    "duration": 4,
    "start_time": "2023-02-08T18:18:51.168Z"
   },
   {
    "duration": 15,
    "start_time": "2023-02-08T18:18:51.174Z"
   },
   {
    "duration": 8,
    "start_time": "2023-02-08T18:18:51.191Z"
   },
   {
    "duration": 5,
    "start_time": "2023-02-08T18:18:51.200Z"
   },
   {
    "duration": 10,
    "start_time": "2023-02-08T18:18:51.207Z"
   },
   {
    "duration": 1183,
    "start_time": "2023-02-08T18:18:51.219Z"
   },
   {
    "duration": 0,
    "start_time": "2023-02-08T18:18:52.403Z"
   },
   {
    "duration": 0,
    "start_time": "2023-02-08T18:18:52.404Z"
   },
   {
    "duration": 0,
    "start_time": "2023-02-08T18:18:52.406Z"
   },
   {
    "duration": 11,
    "start_time": "2023-02-08T18:20:46.571Z"
   },
   {
    "duration": 44,
    "start_time": "2023-02-08T18:21:09.478Z"
   },
   {
    "duration": 28,
    "start_time": "2023-02-08T18:22:33.043Z"
   },
   {
    "duration": 38,
    "start_time": "2023-02-08T18:22:48.675Z"
   },
   {
    "duration": 56,
    "start_time": "2023-02-08T18:27:10.445Z"
   },
   {
    "duration": 38,
    "start_time": "2023-02-08T18:27:21.494Z"
   },
   {
    "duration": 57,
    "start_time": "2023-02-08T18:35:59.237Z"
   },
   {
    "duration": 44,
    "start_time": "2023-02-08T18:36:08.742Z"
   },
   {
    "duration": 46,
    "start_time": "2023-02-08T18:36:29.435Z"
   },
   {
    "duration": 41,
    "start_time": "2023-02-08T18:37:24.112Z"
   },
   {
    "duration": 43,
    "start_time": "2023-02-08T18:37:46.853Z"
   },
   {
    "duration": 40,
    "start_time": "2023-02-08T18:38:00.708Z"
   },
   {
    "duration": 24,
    "start_time": "2023-02-08T18:42:13.081Z"
   },
   {
    "duration": 77,
    "start_time": "2023-02-08T19:16:46.988Z"
   },
   {
    "duration": 16,
    "start_time": "2023-02-08T19:16:47.067Z"
   },
   {
    "duration": 17,
    "start_time": "2023-02-08T19:16:47.084Z"
   },
   {
    "duration": 11,
    "start_time": "2023-02-08T19:16:47.102Z"
   },
   {
    "duration": 56,
    "start_time": "2023-02-08T19:16:47.115Z"
   },
   {
    "duration": 4,
    "start_time": "2023-02-08T19:16:47.172Z"
   },
   {
    "duration": 13,
    "start_time": "2023-02-08T19:16:47.177Z"
   },
   {
    "duration": 4,
    "start_time": "2023-02-08T19:16:47.192Z"
   },
   {
    "duration": 5,
    "start_time": "2023-02-08T19:16:47.198Z"
   },
   {
    "duration": 5,
    "start_time": "2023-02-08T19:16:47.205Z"
   },
   {
    "duration": 60,
    "start_time": "2023-02-08T19:16:47.211Z"
   },
   {
    "duration": 10,
    "start_time": "2023-02-08T19:16:47.273Z"
   },
   {
    "duration": 9,
    "start_time": "2023-02-08T19:16:47.285Z"
   },
   {
    "duration": 19,
    "start_time": "2023-02-08T19:16:47.297Z"
   },
   {
    "duration": 31,
    "start_time": "2023-02-08T19:16:47.318Z"
   },
   {
    "duration": 17,
    "start_time": "2023-02-08T19:16:47.351Z"
   },
   {
    "duration": 3,
    "start_time": "2023-02-08T19:16:47.370Z"
   },
   {
    "duration": 18,
    "start_time": "2023-02-08T19:16:47.375Z"
   },
   {
    "duration": 14,
    "start_time": "2023-02-08T19:16:47.394Z"
   },
   {
    "duration": 7,
    "start_time": "2023-02-08T19:16:47.410Z"
   },
   {
    "duration": 21,
    "start_time": "2023-02-08T19:16:47.419Z"
   },
   {
    "duration": 39,
    "start_time": "2023-02-08T19:16:47.448Z"
   },
   {
    "duration": 0,
    "start_time": "2023-02-08T19:16:47.488Z"
   },
   {
    "duration": 0,
    "start_time": "2023-02-08T19:16:47.490Z"
   },
   {
    "duration": 0,
    "start_time": "2023-02-08T19:16:47.491Z"
   },
   {
    "duration": 21,
    "start_time": "2023-02-08T19:17:42.739Z"
   },
   {
    "duration": 78,
    "start_time": "2023-02-08T19:18:01.616Z"
   },
   {
    "duration": 14,
    "start_time": "2023-02-08T19:18:01.696Z"
   },
   {
    "duration": 21,
    "start_time": "2023-02-08T19:18:01.711Z"
   },
   {
    "duration": 18,
    "start_time": "2023-02-08T19:18:01.733Z"
   },
   {
    "duration": 37,
    "start_time": "2023-02-08T19:18:01.753Z"
   },
   {
    "duration": 3,
    "start_time": "2023-02-08T19:18:01.792Z"
   },
   {
    "duration": 19,
    "start_time": "2023-02-08T19:18:01.796Z"
   },
   {
    "duration": 8,
    "start_time": "2023-02-08T19:18:01.817Z"
   },
   {
    "duration": 7,
    "start_time": "2023-02-08T19:18:01.826Z"
   },
   {
    "duration": 15,
    "start_time": "2023-02-08T19:18:01.834Z"
   },
   {
    "duration": 64,
    "start_time": "2023-02-08T19:18:01.851Z"
   },
   {
    "duration": 10,
    "start_time": "2023-02-08T19:18:01.916Z"
   },
   {
    "duration": 23,
    "start_time": "2023-02-08T19:18:01.927Z"
   },
   {
    "duration": 40,
    "start_time": "2023-02-08T19:18:01.953Z"
   },
   {
    "duration": 50,
    "start_time": "2023-02-08T19:18:01.995Z"
   },
   {
    "duration": 25,
    "start_time": "2023-02-08T19:18:02.047Z"
   },
   {
    "duration": 4,
    "start_time": "2023-02-08T19:18:02.073Z"
   },
   {
    "duration": 12,
    "start_time": "2023-02-08T19:18:02.078Z"
   },
   {
    "duration": 6,
    "start_time": "2023-02-08T19:18:02.092Z"
   },
   {
    "duration": 9,
    "start_time": "2023-02-08T19:18:02.099Z"
   },
   {
    "duration": 18,
    "start_time": "2023-02-08T19:18:02.110Z"
   },
   {
    "duration": 30,
    "start_time": "2023-02-08T19:18:02.129Z"
   },
   {
    "duration": 0,
    "start_time": "2023-02-08T19:18:02.160Z"
   },
   {
    "duration": 0,
    "start_time": "2023-02-08T19:18:02.161Z"
   },
   {
    "duration": 0,
    "start_time": "2023-02-08T19:18:02.162Z"
   },
   {
    "duration": 36,
    "start_time": "2023-02-08T19:23:34.705Z"
   },
   {
    "duration": 37,
    "start_time": "2023-02-08T19:24:17.911Z"
   },
   {
    "duration": 22,
    "start_time": "2023-02-08T19:46:09.014Z"
   },
   {
    "duration": 109,
    "start_time": "2023-02-08T19:46:26.672Z"
   },
   {
    "duration": 26,
    "start_time": "2023-02-08T19:46:26.784Z"
   },
   {
    "duration": 43,
    "start_time": "2023-02-08T19:46:26.812Z"
   },
   {
    "duration": 28,
    "start_time": "2023-02-08T19:46:26.860Z"
   },
   {
    "duration": 48,
    "start_time": "2023-02-08T19:46:26.891Z"
   },
   {
    "duration": 4,
    "start_time": "2023-02-08T19:46:26.941Z"
   },
   {
    "duration": 34,
    "start_time": "2023-02-08T19:46:26.946Z"
   },
   {
    "duration": 11,
    "start_time": "2023-02-08T19:46:26.982Z"
   },
   {
    "duration": 10,
    "start_time": "2023-02-08T19:46:26.995Z"
   },
   {
    "duration": 5,
    "start_time": "2023-02-08T19:46:27.007Z"
   },
   {
    "duration": 44,
    "start_time": "2023-02-08T19:46:27.015Z"
   },
   {
    "duration": 15,
    "start_time": "2023-02-08T19:46:27.061Z"
   },
   {
    "duration": 11,
    "start_time": "2023-02-08T19:46:27.078Z"
   },
   {
    "duration": 16,
    "start_time": "2023-02-08T19:46:27.092Z"
   },
   {
    "duration": 36,
    "start_time": "2023-02-08T19:46:27.110Z"
   },
   {
    "duration": 29,
    "start_time": "2023-02-08T19:46:27.148Z"
   },
   {
    "duration": 35,
    "start_time": "2023-02-08T19:46:27.179Z"
   },
   {
    "duration": 18,
    "start_time": "2023-02-08T19:46:27.216Z"
   },
   {
    "duration": 14,
    "start_time": "2023-02-08T19:46:27.236Z"
   },
   {
    "duration": 22,
    "start_time": "2023-02-08T19:46:27.252Z"
   },
   {
    "duration": 11,
    "start_time": "2023-02-08T19:46:27.277Z"
   },
   {
    "duration": 48,
    "start_time": "2023-02-08T19:46:27.289Z"
   },
   {
    "duration": 0,
    "start_time": "2023-02-08T19:46:27.339Z"
   },
   {
    "duration": 0,
    "start_time": "2023-02-08T19:46:27.341Z"
   },
   {
    "duration": 0,
    "start_time": "2023-02-08T19:46:27.342Z"
   },
   {
    "duration": 25,
    "start_time": "2023-02-08T19:47:51.642Z"
   },
   {
    "duration": 48,
    "start_time": "2023-02-08T19:48:37.375Z"
   },
   {
    "duration": 38,
    "start_time": "2023-02-08T19:49:36.621Z"
   },
   {
    "duration": 39,
    "start_time": "2023-02-08T19:49:47.263Z"
   },
   {
    "duration": 45,
    "start_time": "2023-02-08T19:51:30.935Z"
   },
   {
    "duration": 34,
    "start_time": "2023-02-08T19:52:09.233Z"
   },
   {
    "duration": 35,
    "start_time": "2023-02-08T19:53:01.596Z"
   },
   {
    "duration": 44,
    "start_time": "2023-02-08T19:53:14.631Z"
   },
   {
    "duration": 41,
    "start_time": "2023-02-08T19:53:28.966Z"
   },
   {
    "duration": 41,
    "start_time": "2023-02-08T19:56:02.278Z"
   },
   {
    "duration": 23,
    "start_time": "2023-02-08T19:56:32.868Z"
   },
   {
    "duration": 168,
    "start_time": "2023-02-08T19:56:49.298Z"
   },
   {
    "duration": 217,
    "start_time": "2023-02-08T19:57:01.247Z"
   },
   {
    "duration": 29,
    "start_time": "2023-02-08T19:57:47.970Z"
   },
   {
    "duration": 27,
    "start_time": "2023-02-08T19:58:04.648Z"
   },
   {
    "duration": 21,
    "start_time": "2023-02-08T19:58:49.633Z"
   },
   {
    "duration": 22,
    "start_time": "2023-02-08T19:59:02.882Z"
   },
   {
    "duration": 223,
    "start_time": "2023-02-08T19:59:36.453Z"
   },
   {
    "duration": 36,
    "start_time": "2023-02-08T20:01:17.874Z"
   },
   {
    "duration": 50,
    "start_time": "2023-02-08T20:01:35.718Z"
   },
   {
    "duration": 31,
    "start_time": "2023-02-08T20:01:44.089Z"
   },
   {
    "duration": 38,
    "start_time": "2023-02-08T20:02:25.631Z"
   },
   {
    "duration": 22,
    "start_time": "2023-02-08T20:13:05.885Z"
   },
   {
    "duration": 91,
    "start_time": "2023-02-08T20:13:17.846Z"
   },
   {
    "duration": 17,
    "start_time": "2023-02-08T20:13:17.939Z"
   },
   {
    "duration": 17,
    "start_time": "2023-02-08T20:13:17.958Z"
   },
   {
    "duration": 16,
    "start_time": "2023-02-08T20:13:17.977Z"
   },
   {
    "duration": 70,
    "start_time": "2023-02-08T20:13:17.997Z"
   },
   {
    "duration": 4,
    "start_time": "2023-02-08T20:13:18.069Z"
   },
   {
    "duration": 14,
    "start_time": "2023-02-08T20:13:18.074Z"
   },
   {
    "duration": 4,
    "start_time": "2023-02-08T20:13:18.090Z"
   },
   {
    "duration": 7,
    "start_time": "2023-02-08T20:13:18.096Z"
   },
   {
    "duration": 4,
    "start_time": "2023-02-08T20:13:18.104Z"
   },
   {
    "duration": 61,
    "start_time": "2023-02-08T20:13:18.110Z"
   },
   {
    "duration": 11,
    "start_time": "2023-02-08T20:13:18.173Z"
   },
   {
    "duration": 5,
    "start_time": "2023-02-08T20:13:18.186Z"
   },
   {
    "duration": 16,
    "start_time": "2023-02-08T20:13:18.194Z"
   },
   {
    "duration": 55,
    "start_time": "2023-02-08T20:13:18.213Z"
   },
   {
    "duration": 23,
    "start_time": "2023-02-08T20:13:18.270Z"
   },
   {
    "duration": 3,
    "start_time": "2023-02-08T20:13:18.295Z"
   },
   {
    "duration": 16,
    "start_time": "2023-02-08T20:13:18.300Z"
   },
   {
    "duration": 11,
    "start_time": "2023-02-08T20:13:18.318Z"
   },
   {
    "duration": 18,
    "start_time": "2023-02-08T20:13:18.330Z"
   },
   {
    "duration": 9,
    "start_time": "2023-02-08T20:13:18.350Z"
   },
   {
    "duration": 30,
    "start_time": "2023-02-08T20:13:18.360Z"
   },
   {
    "duration": 197,
    "start_time": "2023-02-08T20:13:18.392Z"
   },
   {
    "duration": 163,
    "start_time": "2023-02-08T20:13:18.591Z"
   },
   {
    "duration": 183,
    "start_time": "2023-02-08T20:13:18.755Z"
   },
   {
    "duration": 29,
    "start_time": "2023-02-08T20:13:47.080Z"
   },
   {
    "duration": 31,
    "start_time": "2023-02-08T20:14:01.269Z"
   },
   {
    "duration": 28,
    "start_time": "2023-02-08T20:14:20.948Z"
   },
   {
    "duration": 95,
    "start_time": "2023-02-08T20:14:48.431Z"
   },
   {
    "duration": 40,
    "start_time": "2023-02-08T20:17:34.249Z"
   },
   {
    "duration": 28,
    "start_time": "2023-02-08T20:17:58.748Z"
   },
   {
    "duration": 28,
    "start_time": "2023-02-08T20:18:11.036Z"
   },
   {
    "duration": 36,
    "start_time": "2023-02-08T20:18:40.500Z"
   },
   {
    "duration": 102,
    "start_time": "2023-02-08T20:19:04.837Z"
   },
   {
    "duration": 87,
    "start_time": "2023-02-08T20:19:16.751Z"
   },
   {
    "duration": 5,
    "start_time": "2023-02-08T20:19:55.295Z"
   },
   {
    "duration": 6,
    "start_time": "2023-02-08T20:20:21.478Z"
   },
   {
    "duration": 50,
    "start_time": "2023-02-08T20:20:26.240Z"
   },
   {
    "duration": 36,
    "start_time": "2023-02-08T20:21:11.928Z"
   },
   {
    "duration": 83,
    "start_time": "2023-02-08T20:22:36.085Z"
   },
   {
    "duration": 15,
    "start_time": "2023-02-08T20:22:36.170Z"
   },
   {
    "duration": 26,
    "start_time": "2023-02-08T20:22:36.187Z"
   },
   {
    "duration": 14,
    "start_time": "2023-02-08T20:22:36.215Z"
   },
   {
    "duration": 55,
    "start_time": "2023-02-08T20:22:36.232Z"
   },
   {
    "duration": 8,
    "start_time": "2023-02-08T20:22:36.304Z"
   },
   {
    "duration": 21,
    "start_time": "2023-02-08T20:22:36.314Z"
   },
   {
    "duration": 59,
    "start_time": "2023-02-08T20:22:36.337Z"
   },
   {
    "duration": 25,
    "start_time": "2023-02-08T20:22:36.398Z"
   },
   {
    "duration": 51,
    "start_time": "2023-02-08T20:22:36.425Z"
   },
   {
    "duration": 66,
    "start_time": "2023-02-08T20:22:36.479Z"
   },
   {
    "duration": 23,
    "start_time": "2023-02-08T20:22:36.547Z"
   },
   {
    "duration": 27,
    "start_time": "2023-02-08T20:22:36.572Z"
   },
   {
    "duration": 15,
    "start_time": "2023-02-08T20:22:36.603Z"
   },
   {
    "duration": 41,
    "start_time": "2023-02-08T20:22:36.620Z"
   },
   {
    "duration": 28,
    "start_time": "2023-02-08T20:22:36.663Z"
   },
   {
    "duration": 54,
    "start_time": "2023-02-08T20:22:36.693Z"
   },
   {
    "duration": 78,
    "start_time": "2023-02-08T20:22:36.749Z"
   },
   {
    "duration": 18,
    "start_time": "2023-02-08T20:22:36.829Z"
   },
   {
    "duration": 5,
    "start_time": "2023-02-08T20:22:36.848Z"
   },
   {
    "duration": 35,
    "start_time": "2023-02-08T20:22:36.858Z"
   },
   {
    "duration": 37,
    "start_time": "2023-02-08T20:22:36.895Z"
   },
   {
    "duration": 205,
    "start_time": "2023-02-08T20:22:36.933Z"
   },
   {
    "duration": 192,
    "start_time": "2023-02-08T20:22:37.140Z"
   },
   {
    "duration": 254,
    "start_time": "2023-02-08T20:22:37.334Z"
   },
   {
    "duration": 528,
    "start_time": "2023-02-08T20:32:18.510Z"
   },
   {
    "duration": 22,
    "start_time": "2023-02-08T20:32:19.040Z"
   },
   {
    "duration": 15,
    "start_time": "2023-02-08T20:32:19.064Z"
   },
   {
    "duration": 15,
    "start_time": "2023-02-08T20:32:19.092Z"
   },
   {
    "duration": 37,
    "start_time": "2023-02-08T20:32:19.110Z"
   },
   {
    "duration": 4,
    "start_time": "2023-02-08T20:32:19.149Z"
   },
   {
    "duration": 15,
    "start_time": "2023-02-08T20:32:19.155Z"
   },
   {
    "duration": 24,
    "start_time": "2023-02-08T20:32:19.172Z"
   },
   {
    "duration": 24,
    "start_time": "2023-02-08T20:32:19.198Z"
   },
   {
    "duration": 6,
    "start_time": "2023-02-08T20:32:19.223Z"
   },
   {
    "duration": 39,
    "start_time": "2023-02-08T20:32:19.231Z"
   },
   {
    "duration": 20,
    "start_time": "2023-02-08T20:32:19.273Z"
   },
   {
    "duration": 6,
    "start_time": "2023-02-08T20:32:19.295Z"
   },
   {
    "duration": 25,
    "start_time": "2023-02-08T20:32:19.304Z"
   },
   {
    "duration": 22,
    "start_time": "2023-02-08T20:32:19.331Z"
   },
   {
    "duration": 16,
    "start_time": "2023-02-08T20:32:19.354Z"
   },
   {
    "duration": 3,
    "start_time": "2023-02-08T20:32:19.371Z"
   },
   {
    "duration": 27,
    "start_time": "2023-02-08T20:32:19.376Z"
   },
   {
    "duration": 6,
    "start_time": "2023-02-08T20:32:19.405Z"
   },
   {
    "duration": 4,
    "start_time": "2023-02-08T20:32:19.413Z"
   },
   {
    "duration": 14,
    "start_time": "2023-02-08T20:32:19.418Z"
   },
   {
    "duration": 341,
    "start_time": "2023-02-08T20:32:19.434Z"
   },
   {
    "duration": 285,
    "start_time": "2023-02-08T20:32:19.778Z"
   },
   {
    "duration": 0,
    "start_time": "2023-02-08T20:32:20.065Z"
   },
   {
    "duration": 0,
    "start_time": "2023-02-08T20:32:20.067Z"
   },
   {
    "duration": 26,
    "start_time": "2023-02-08T20:34:07.026Z"
   },
   {
    "duration": 28,
    "start_time": "2023-02-08T20:34:11.289Z"
   },
   {
    "duration": 27,
    "start_time": "2023-02-08T20:34:18.181Z"
   }
  ],
  "colab": {
   "name": "dpp_template_part2.ipynb",
   "provenance": []
  },
  "kernelspec": {
   "display_name": "Python 3 (ipykernel)",
   "language": "python",
   "name": "python3"
  },
  "language_info": {
   "codemirror_mode": {
    "name": "ipython",
    "version": 3
   },
   "file_extension": ".py",
   "mimetype": "text/x-python",
   "name": "python",
   "nbconvert_exporter": "python",
   "pygments_lexer": "ipython3",
   "version": "3.9.15"
  },
  "toc": {
   "base_numbering": 1,
   "nav_menu": {},
   "number_sections": true,
   "sideBar": true,
   "skip_h1_title": true,
   "title_cell": "Table of Contents",
   "title_sidebar": "Contents",
   "toc_cell": false,
   "toc_position": {},
   "toc_section_display": true,
   "toc_window_display": true
  }
 },
 "nbformat": 4,
 "nbformat_minor": 5
}
